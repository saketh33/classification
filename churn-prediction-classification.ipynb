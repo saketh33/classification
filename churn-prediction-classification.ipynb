{
 "cells": [
  {
   "cell_type": "code",
   "execution_count": 1,
   "metadata": {
    "_cell_guid": "b1076dfc-b9ad-4769-8c92-a6c4dae69d19",
    "_uuid": "8f2839f25d086af736a60e9eeb907d3b93b6e0e5",
    "execution": {
     "iopub.execute_input": "2021-01-27T16:06:49.677897Z",
     "iopub.status.busy": "2021-01-27T16:06:49.676901Z",
     "iopub.status.idle": "2021-01-27T16:06:49.680142Z",
     "shell.execute_reply": "2021-01-27T16:06:49.679393Z"
    },
    "papermill": {
     "duration": 0.048601,
     "end_time": "2021-01-27T16:06:49.680267",
     "exception": false,
     "start_time": "2021-01-27T16:06:49.631666",
     "status": "completed"
    },
    "tags": []
   },
   "outputs": [],
   "source": [
    "import pandas as pd\n",
    "import numpy as np\n",
    "import matplotlib.pyplot as plt"
   ]
  },
  {
   "cell_type": "code",
   "execution_count": 2,
   "metadata": {
    "execution": {
     "iopub.execute_input": "2021-01-27T16:06:49.775005Z",
     "iopub.status.busy": "2021-01-27T16:06:49.774231Z",
     "iopub.status.idle": "2021-01-27T16:06:49.858679Z",
     "shell.execute_reply": "2021-01-27T16:06:49.859200Z"
    },
    "papermill": {
     "duration": 0.141241,
     "end_time": "2021-01-27T16:06:49.859382",
     "exception": false,
     "start_time": "2021-01-27T16:06:49.718141",
     "status": "completed"
    },
    "tags": []
   },
   "outputs": [],
   "source": [
    "df=pd.read_csv(\"../input/aicomp/train.csv\")\n",
    "df1=pd.read_csv(\"../input/aicomp/test.csv\")"
   ]
  },
  {
   "cell_type": "code",
   "execution_count": 3,
   "metadata": {
    "execution": {
     "iopub.execute_input": "2021-01-27T16:06:49.946370Z",
     "iopub.status.busy": "2021-01-27T16:06:49.945527Z",
     "iopub.status.idle": "2021-01-27T16:06:49.957882Z",
     "shell.execute_reply": "2021-01-27T16:06:49.958381Z"
    },
    "papermill": {
     "duration": 0.061258,
     "end_time": "2021-01-27T16:06:49.958568",
     "exception": false,
     "start_time": "2021-01-27T16:06:49.897310",
     "status": "completed"
    },
    "tags": []
   },
   "outputs": [],
   "source": [
    "#I am changing Churn to 1 and 0 for analysis purpose\n",
    "df['Churn']=df['Churn'].replace('No',0)\n",
    "df['Churn']=df['Churn'].replace('Yes',1)"
   ]
  },
  {
   "cell_type": "code",
   "execution_count": 4,
   "metadata": {
    "execution": {
     "iopub.execute_input": "2021-01-27T16:06:50.038656Z",
     "iopub.status.busy": "2021-01-27T16:06:50.037621Z",
     "iopub.status.idle": "2021-01-27T16:06:50.049221Z",
     "shell.execute_reply": "2021-01-27T16:06:50.048652Z"
    },
    "papermill": {
     "duration": 0.052793,
     "end_time": "2021-01-27T16:06:50.049332",
     "exception": false,
     "start_time": "2021-01-27T16:06:49.996539",
     "status": "completed"
    },
    "tags": []
   },
   "outputs": [],
   "source": [
    "#I am changing Seniorcitizon as yes or no\n",
    "df['SeniorCitizen']=df['SeniorCitizen'].replace(1,'Yes')\n",
    "df['SeniorCitizen']=df['SeniorCitizen'].replace(0,'No')\n",
    "df1['SeniorCitizen']=df1['SeniorCitizen'].replace(1,'Yes')\n",
    "df1['SeniorCitizen']=df1['SeniorCitizen'].replace(0,'No')"
   ]
  },
  {
   "cell_type": "code",
   "execution_count": 5,
   "metadata": {
    "execution": {
     "iopub.execute_input": "2021-01-27T16:06:50.151272Z",
     "iopub.status.busy": "2021-01-27T16:06:50.150199Z",
     "iopub.status.idle": "2021-01-27T16:06:50.160866Z",
     "shell.execute_reply": "2021-01-27T16:06:50.160117Z"
    },
    "papermill": {
     "duration": 0.073256,
     "end_time": "2021-01-27T16:06:50.160988",
     "exception": false,
     "start_time": "2021-01-27T16:06:50.087732",
     "status": "completed"
    },
    "tags": []
   },
   "outputs": [],
   "source": [
    "# Here Totalcharges actually is integer but it showing object so i converted into integer\n",
    "df['TotalCharges'] = df['TotalCharges'].replace(r'\\s+', np.nan, regex=True)\n",
    "df['TotalCharges'] = pd.to_numeric(df['TotalCharges'])\n",
    "# Here Totalcharges actually is integer but it showing object so i converted into integer\n",
    "df1['TotalCharges'] = df1['TotalCharges'].replace(r'\\s+', np.nan, regex=True)\n",
    "df1['TotalCharges'] = pd.to_numeric(df1['TotalCharges'])"
   ]
  },
  {
   "cell_type": "code",
   "execution_count": 6,
   "metadata": {
    "execution": {
     "iopub.execute_input": "2021-01-27T16:06:50.248164Z",
     "iopub.status.busy": "2021-01-27T16:06:50.245880Z",
     "iopub.status.idle": "2021-01-27T16:06:50.259185Z",
     "shell.execute_reply": "2021-01-27T16:06:50.258314Z"
    },
    "papermill": {
     "duration": 0.060134,
     "end_time": "2021-01-27T16:06:50.259302",
     "exception": false,
     "start_time": "2021-01-27T16:06:50.199168",
     "status": "completed"
    },
    "tags": []
   },
   "outputs": [],
   "source": [
    "#Defining categorical variables\n",
    "categorical_features=df.select_dtypes(include=[object])\n",
    "categorical_features1=df1.select_dtypes(include=[object])"
   ]
  },
  {
   "cell_type": "code",
   "execution_count": 7,
   "metadata": {
    "execution": {
     "iopub.execute_input": "2021-01-27T16:06:50.346030Z",
     "iopub.status.busy": "2021-01-27T16:06:50.342840Z",
     "iopub.status.idle": "2021-01-27T16:06:50.349652Z",
     "shell.execute_reply": "2021-01-27T16:06:50.348894Z"
    },
    "papermill": {
     "duration": 0.05173,
     "end_time": "2021-01-27T16:06:50.349786",
     "exception": false,
     "start_time": "2021-01-27T16:06:50.298056",
     "status": "completed"
    },
    "tags": []
   },
   "outputs": [],
   "source": [
    "# Removing unwanted coloumns\n",
    "df.drop(['customerID'],axis=1,inplace=True)\n",
    "# Removing unwanted coloumns\n",
    "df1.drop(['customerID'],axis=1,inplace=True)"
   ]
  },
  {
   "cell_type": "code",
   "execution_count": 8,
   "metadata": {
    "execution": {
     "iopub.execute_input": "2021-01-27T16:06:50.434320Z",
     "iopub.status.busy": "2021-01-27T16:06:50.432719Z",
     "iopub.status.idle": "2021-01-27T16:06:50.441077Z",
     "shell.execute_reply": "2021-01-27T16:06:50.440492Z"
    },
    "papermill": {
     "duration": 0.053187,
     "end_time": "2021-01-27T16:06:50.441203",
     "exception": false,
     "start_time": "2021-01-27T16:06:50.388016",
     "status": "completed"
    },
    "tags": []
   },
   "outputs": [],
   "source": [
    "df['TotalCharges']=df['TotalCharges'].fillna(df['TotalCharges'].median())\n",
    "df1['TotalCharges']=df1['TotalCharges'].fillna(df1['TotalCharges'].median())"
   ]
  },
  {
   "cell_type": "code",
   "execution_count": 9,
   "metadata": {
    "execution": {
     "iopub.execute_input": "2021-01-27T16:06:50.536753Z",
     "iopub.status.busy": "2021-01-27T16:06:50.535622Z",
     "iopub.status.idle": "2021-01-27T16:06:50.539203Z",
     "shell.execute_reply": "2021-01-27T16:06:50.538522Z"
    },
    "papermill": {
     "duration": 0.059767,
     "end_time": "2021-01-27T16:06:50.539320",
     "exception": false,
     "start_time": "2021-01-27T16:06:50.479553",
     "status": "completed"
    },
    "tags": []
   },
   "outputs": [],
   "source": [
    "df['gender']=df['gender'].replace('Male',1)\n",
    "df['gender']=df['gender'].replace('Female',0)\n",
    "df1['gender']=df1['gender'].replace('Male',1)\n",
    "df1['gender']=df1['gender'].replace('Female',0)"
   ]
  },
  {
   "cell_type": "code",
   "execution_count": 10,
   "metadata": {
    "execution": {
     "iopub.execute_input": "2021-01-27T16:06:50.623649Z",
     "iopub.status.busy": "2021-01-27T16:06:50.622572Z",
     "iopub.status.idle": "2021-01-27T16:06:50.633271Z",
     "shell.execute_reply": "2021-01-27T16:06:50.633838Z"
    },
    "papermill": {
     "duration": 0.056296,
     "end_time": "2021-01-27T16:06:50.633996",
     "exception": false,
     "start_time": "2021-01-27T16:06:50.577700",
     "status": "completed"
    },
    "tags": []
   },
   "outputs": [],
   "source": [
    "df['Partner']=df['Partner'].replace('No',0)\n",
    "df['Partner']=df['Partner'].replace('Yes',1)\n",
    "df1['Partner']=df1['Partner'].replace('No',0)\n",
    "df1['Partner']=df1['Partner'].replace('Yes',1)"
   ]
  },
  {
   "cell_type": "code",
   "execution_count": 11,
   "metadata": {
    "execution": {
     "iopub.execute_input": "2021-01-27T16:06:50.715717Z",
     "iopub.status.busy": "2021-01-27T16:06:50.714669Z",
     "iopub.status.idle": "2021-01-27T16:06:50.729906Z",
     "shell.execute_reply": "2021-01-27T16:06:50.729348Z"
    },
    "papermill": {
     "duration": 0.057616,
     "end_time": "2021-01-27T16:06:50.730031",
     "exception": false,
     "start_time": "2021-01-27T16:06:50.672415",
     "status": "completed"
    },
    "tags": []
   },
   "outputs": [],
   "source": [
    "df['Dependents']=df['Dependents'].replace('No',0)\n",
    "df['Dependents']=df['Dependents'].replace('Yes',1)\n",
    "df1['Dependents']=df1['Dependents'].replace('Yes',1)\n",
    "df1['Dependents']=df1['Dependents'].replace('No',0)"
   ]
  },
  {
   "cell_type": "code",
   "execution_count": 12,
   "metadata": {
    "execution": {
     "iopub.execute_input": "2021-01-27T16:06:50.824949Z",
     "iopub.status.busy": "2021-01-27T16:06:50.823832Z",
     "iopub.status.idle": "2021-01-27T16:06:50.827160Z",
     "shell.execute_reply": "2021-01-27T16:06:50.826185Z"
    },
    "papermill": {
     "duration": 0.05858,
     "end_time": "2021-01-27T16:06:50.827296",
     "exception": false,
     "start_time": "2021-01-27T16:06:50.768716",
     "status": "completed"
    },
    "tags": []
   },
   "outputs": [],
   "source": [
    "df['SeniorCitizen']=df['SeniorCitizen'].replace('No',0)\n",
    "df['SeniorCitizen']=df['SeniorCitizen'].replace('Yes',1)\n",
    "df1['SeniorCitizen']=df1['SeniorCitizen'].replace('No',0)\n",
    "df1['SeniorCitizen']=df1['SeniorCitizen'].replace('Yes',1)"
   ]
  },
  {
   "cell_type": "code",
   "execution_count": 13,
   "metadata": {
    "execution": {
     "iopub.execute_input": "2021-01-27T16:06:50.921302Z",
     "iopub.status.busy": "2021-01-27T16:06:50.917311Z",
     "iopub.status.idle": "2021-01-27T16:06:50.924457Z",
     "shell.execute_reply": "2021-01-27T16:06:50.925003Z"
    },
    "papermill": {
     "duration": 0.058359,
     "end_time": "2021-01-27T16:06:50.925185",
     "exception": false,
     "start_time": "2021-01-27T16:06:50.866826",
     "status": "completed"
    },
    "tags": []
   },
   "outputs": [],
   "source": [
    "df['PhoneService']=df['PhoneService'].replace('No',0)\n",
    "df['PhoneService']=df['PhoneService'].replace('Yes',1)\n",
    "df1['PhoneService']=df1['PhoneService'].replace('No',0)\n",
    "df1['PhoneService']=df1['PhoneService'].replace('Yes',1)"
   ]
  },
  {
   "cell_type": "code",
   "execution_count": 14,
   "metadata": {
    "execution": {
     "iopub.execute_input": "2021-01-27T16:06:51.016163Z",
     "iopub.status.busy": "2021-01-27T16:06:51.013569Z",
     "iopub.status.idle": "2021-01-27T16:06:51.051050Z",
     "shell.execute_reply": "2021-01-27T16:06:51.049870Z"
    },
    "papermill": {
     "duration": 0.086067,
     "end_time": "2021-01-27T16:06:51.051175",
     "exception": false,
     "start_time": "2021-01-27T16:06:50.965108",
     "status": "completed"
    },
    "tags": []
   },
   "outputs": [],
   "source": [
    "final_df=pd.get_dummies(columns=['MultipleLines','InternetService','OnlineSecurity','OnlineBackup','DeviceProtection','TechSupport','StreamingTV','StreamingMovies','Contract','PaperlessBilling','PaymentMethod'],data=df)\n",
    "final_df1=pd.get_dummies(columns=['MultipleLines','InternetService','OnlineSecurity','OnlineBackup','DeviceProtection','TechSupport','StreamingTV','StreamingMovies','Contract','PaperlessBilling','PaymentMethod'],data=df1)"
   ]
  },
  {
   "cell_type": "code",
   "execution_count": 15,
   "metadata": {
    "execution": {
     "iopub.execute_input": "2021-01-27T16:06:51.136440Z",
     "iopub.status.busy": "2021-01-27T16:06:51.135604Z",
     "iopub.status.idle": "2021-01-27T16:06:51.139320Z",
     "shell.execute_reply": "2021-01-27T16:06:51.138648Z"
    },
    "papermill": {
     "duration": 0.048445,
     "end_time": "2021-01-27T16:06:51.139444",
     "exception": false,
     "start_time": "2021-01-27T16:06:51.090999",
     "status": "completed"
    },
    "tags": []
   },
   "outputs": [],
   "source": [
    "y_train=final_df['Churn']"
   ]
  },
  {
   "cell_type": "code",
   "execution_count": 16,
   "metadata": {
    "execution": {
     "iopub.execute_input": "2021-01-27T16:06:51.227005Z",
     "iopub.status.busy": "2021-01-27T16:06:51.226283Z",
     "iopub.status.idle": "2021-01-27T16:06:51.228275Z",
     "shell.execute_reply": "2021-01-27T16:06:51.228822Z"
    },
    "papermill": {
     "duration": 0.050081,
     "end_time": "2021-01-27T16:06:51.228967",
     "exception": false,
     "start_time": "2021-01-27T16:06:51.178886",
     "status": "completed"
    },
    "tags": []
   },
   "outputs": [],
   "source": [
    "X_train=final_df.drop(['Churn'],axis=1)"
   ]
  },
  {
   "cell_type": "code",
   "execution_count": 17,
   "metadata": {
    "execution": {
     "iopub.execute_input": "2021-01-27T16:06:51.311282Z",
     "iopub.status.busy": "2021-01-27T16:06:51.310635Z",
     "iopub.status.idle": "2021-01-27T16:06:51.316108Z",
     "shell.execute_reply": "2021-01-27T16:06:51.315493Z"
    },
    "papermill": {
     "duration": 0.047346,
     "end_time": "2021-01-27T16:06:51.316217",
     "exception": false,
     "start_time": "2021-01-27T16:06:51.268871",
     "status": "completed"
    },
    "tags": []
   },
   "outputs": [],
   "source": [
    "X_test=final_df1"
   ]
  },
  {
   "cell_type": "code",
   "execution_count": 18,
   "metadata": {
    "execution": {
     "iopub.execute_input": "2021-01-27T16:06:51.399225Z",
     "iopub.status.busy": "2021-01-27T16:06:51.398468Z",
     "iopub.status.idle": "2021-01-27T16:06:51.476566Z",
     "shell.execute_reply": "2021-01-27T16:06:51.475928Z"
    },
    "papermill": {
     "duration": 0.120723,
     "end_time": "2021-01-27T16:06:51.476727",
     "exception": false,
     "start_time": "2021-01-27T16:06:51.356004",
     "status": "completed"
    },
    "tags": []
   },
   "outputs": [],
   "source": [
    "data=pd.read_csv('../input/sameas/WA_Fn-UseC_-Telco-Customer-Churn.csv')"
   ]
  },
  {
   "cell_type": "code",
   "execution_count": 19,
   "metadata": {
    "execution": {
     "iopub.execute_input": "2021-01-27T16:06:51.564949Z",
     "iopub.status.busy": "2021-01-27T16:06:51.564233Z",
     "iopub.status.idle": "2021-01-27T16:06:51.567311Z",
     "shell.execute_reply": "2021-01-27T16:06:51.567863Z"
    },
    "papermill": {
     "duration": 0.050732,
     "end_time": "2021-01-27T16:06:51.568001",
     "exception": false,
     "start_time": "2021-01-27T16:06:51.517269",
     "status": "completed"
    },
    "tags": []
   },
   "outputs": [
    {
     "data": {
      "text/plain": [
       "(1409,)"
      ]
     },
     "execution_count": 19,
     "metadata": {},
     "output_type": "execute_result"
    }
   ],
   "source": [
    "y_test=data.iloc[5634:,-1]\n",
    "y_test.shape"
   ]
  },
  {
   "cell_type": "code",
   "execution_count": 20,
   "metadata": {
    "execution": {
     "iopub.execute_input": "2021-01-27T16:06:51.652764Z",
     "iopub.status.busy": "2021-01-27T16:06:51.652078Z",
     "iopub.status.idle": "2021-01-27T16:06:52.807485Z",
     "shell.execute_reply": "2021-01-27T16:06:52.806753Z"
    },
    "papermill": {
     "duration": 1.198462,
     "end_time": "2021-01-27T16:06:52.807665",
     "exception": false,
     "start_time": "2021-01-27T16:06:51.609203",
     "status": "completed"
    },
    "tags": []
   },
   "outputs": [],
   "source": [
    "from sklearn.preprocessing import LabelEncoder\n",
    "le = LabelEncoder()\n",
    "y_test= le.fit_transform(y_test)"
   ]
  },
  {
   "cell_type": "code",
   "execution_count": 21,
   "metadata": {
    "execution": {
     "iopub.execute_input": "2021-01-27T16:06:52.896640Z",
     "iopub.status.busy": "2021-01-27T16:06:52.895831Z",
     "iopub.status.idle": "2021-01-27T16:06:53.222218Z",
     "shell.execute_reply": "2021-01-27T16:06:53.223001Z"
    },
    "papermill": {
     "duration": 0.374021,
     "end_time": "2021-01-27T16:06:53.223160",
     "exception": false,
     "start_time": "2021-01-27T16:06:52.849139",
     "status": "completed"
    },
    "tags": []
   },
   "outputs": [
    {
     "name": "stdout",
     "output_type": "stream",
     "text": [
      "0.8048261178140526\n"
     ]
    },
    {
     "name": "stderr",
     "output_type": "stream",
     "text": [
      "/opt/conda/lib/python3.7/site-packages/sklearn/linear_model/_logistic.py:764: ConvergenceWarning: lbfgs failed to converge (status=1):\n",
      "STOP: TOTAL NO. of ITERATIONS REACHED LIMIT.\n",
      "\n",
      "Increase the number of iterations (max_iter) or scale the data as shown in:\n",
      "    https://scikit-learn.org/stable/modules/preprocessing.html\n",
      "Please also refer to the documentation for alternative solver options:\n",
      "    https://scikit-learn.org/stable/modules/linear_model.html#logistic-regression\n",
      "  extra_warning_msg=_LOGISTIC_SOLVER_CONVERGENCE_MSG)\n"
     ]
    }
   ],
   "source": [
    "from sklearn.linear_model import LogisticRegression\n",
    "lr=LogisticRegression(random_state=0)\n",
    "lr.fit(X_train,y_train)\n",
    "lr_predict=lr.predict(X_test)\n",
    "from sklearn import metrics\n",
    "print(metrics.accuracy_score(y_test,lr_predict))"
   ]
  },
  {
   "cell_type": "code",
   "execution_count": 22,
   "metadata": {
    "execution": {
     "iopub.execute_input": "2021-01-27T16:06:53.311766Z",
     "iopub.status.busy": "2021-01-27T16:06:53.310935Z",
     "iopub.status.idle": "2021-01-27T16:06:53.874410Z",
     "shell.execute_reply": "2021-01-27T16:06:53.873702Z"
    },
    "papermill": {
     "duration": 0.610298,
     "end_time": "2021-01-27T16:06:53.874550",
     "exception": false,
     "start_time": "2021-01-27T16:06:53.264252",
     "status": "completed"
    },
    "tags": []
   },
   "outputs": [
    {
     "data": {
      "text/plain": [
       "0.8019872249822569"
      ]
     },
     "execution_count": 22,
     "metadata": {},
     "output_type": "execute_result"
    }
   ],
   "source": [
    "from sklearn.ensemble import AdaBoostClassifier\n",
    "ada= AdaBoostClassifier()\n",
    "ada.fit(X_train,y_train)\n",
    "ada_preds = ada.predict(X_test)\n",
    "metrics.accuracy_score(y_test, ada_preds)"
   ]
  },
  {
   "cell_type": "code",
   "execution_count": 23,
   "metadata": {
    "execution": {
     "iopub.execute_input": "2021-01-27T16:06:53.969904Z",
     "iopub.status.busy": "2021-01-27T16:06:53.969002Z",
     "iopub.status.idle": "2021-01-27T16:06:55.209134Z",
     "shell.execute_reply": "2021-01-27T16:06:55.209683Z"
    },
    "papermill": {
     "duration": 1.292378,
     "end_time": "2021-01-27T16:06:55.209859",
     "exception": false,
     "start_time": "2021-01-27T16:06:53.917481",
     "status": "completed"
    },
    "tags": []
   },
   "outputs": [],
   "source": [
    "from sklearn.linear_model import LogisticRegression\n",
    "from sklearn.svm import SVC, LinearSVC\n",
    "from sklearn.neighbors import KNeighborsClassifier\n",
    "from sklearn.linear_model import Perceptron\n",
    "from sklearn.tree import DecisionTreeClassifier\n",
    "from sklearn.model_selection import GridSearchCV\n",
    "from sklearn.metrics import accuracy_score\n",
    "from sklearn.metrics import confusion_matrix\n",
    "from sklearn import metrics\n",
    "from sklearn.model_selection import cross_val_score\n",
    "from sklearn.metrics import accuracy_score,confusion_matrix, roc_auc_score, roc_curve\n",
    "from sklearn.model_selection import StratifiedKFold\n",
    "from imblearn.over_sampling import SMOTE\n",
    "import xgboost\n",
    "from sklearn.model_selection import train_test_split\n",
    "from sklearn.ensemble import RandomForestClassifier\n",
    "from sklearn.neural_network import MLPClassifier\n",
    "from sklearn.ensemble import GradientBoostingClassifier\n",
    "from sklearn.ensemble import AdaBoostClassifier"
   ]
  },
  {
   "cell_type": "code",
   "execution_count": 24,
   "metadata": {
    "execution": {
     "iopub.execute_input": "2021-01-27T16:06:55.303489Z",
     "iopub.status.busy": "2021-01-27T16:06:55.302696Z",
     "iopub.status.idle": "2021-01-27T16:06:55.306453Z",
     "shell.execute_reply": "2021-01-27T16:06:55.305800Z"
    },
    "papermill": {
     "duration": 0.054322,
     "end_time": "2021-01-27T16:06:55.306584",
     "exception": false,
     "start_time": "2021-01-27T16:06:55.252262",
     "status": "completed"
    },
    "tags": []
   },
   "outputs": [],
   "source": [
    "from sklearn.preprocessing import MinMaxScaler\n",
    "from sklearn.model_selection import train_test_split # import 'train_test_split'\n",
    "from sklearn.ensemble import RandomForestClassifier # import RandomForestRegressor\n",
    "from sklearn.metrics import f1_score, accuracy_score, roc_auc_score, make_scorer # import metrics from sklearn\n",
    "from time import time\n",
    "from sklearn.model_selection import GridSearchCV # Search over specified parameter values for an estimator.\n",
    "from sklearn.model_selection import RandomizedSearchCV # Search over specified parameter values for an estimator.\n",
    "from sklearn.model_selection import ShuffleSplit # Random permutation cross-validator\n",
    "from sklearn.model_selection import StratifiedShuffleSplit"
   ]
  },
  {
   "cell_type": "code",
   "execution_count": 25,
   "metadata": {
    "execution": {
     "iopub.execute_input": "2021-01-27T16:06:55.401051Z",
     "iopub.status.busy": "2021-01-27T16:06:55.400238Z",
     "iopub.status.idle": "2021-01-27T16:09:21.635225Z",
     "shell.execute_reply": "2021-01-27T16:09:21.635764Z"
    },
    "papermill": {
     "duration": 146.287166,
     "end_time": "2021-01-27T16:09:21.635922",
     "exception": false,
     "start_time": "2021-01-27T16:06:55.348756",
     "status": "completed"
    },
    "tags": []
   },
   "outputs": [
    {
     "data": {
      "text/plain": [
       "GridSearchCV(cv=StratifiedShuffleSplit(n_splits=10, random_state=15, test_size=0.3,\n",
       "            train_size=None),\n",
       "             estimator=AdaBoostClassifier(), n_jobs=-1,\n",
       "             param_grid={'learning_rate': [0.1, 1, 0.01, 0.5],\n",
       "                         'n_estimators': [100, 140, 145, 150, 160, 170, 175,\n",
       "                                          180, 185]})"
      ]
     },
     "execution_count": 25,
     "metadata": {},
     "output_type": "execute_result"
    }
   ],
   "source": [
    "from sklearn.model_selection import GridSearchCV\n",
    "n_estimators = [100,140,145,150,160, 170,175,180,185];\n",
    "cv = StratifiedShuffleSplit(n_splits=10, test_size=.30, random_state=15)\n",
    "learning_r = [0.1,1,0.01,0.5]\n",
    "\n",
    "parameters = {'n_estimators':n_estimators,\n",
    "              'learning_rate':learning_r\n",
    "              \n",
    "        }\n",
    "grid = GridSearchCV(AdaBoostClassifier(base_estimator= None, ## If None, then the base estimator is a decision tree.\n",
    "                                     ),\n",
    "                                 param_grid=parameters,\n",
    "                                 cv=cv,\n",
    "                                 n_jobs = -1)\n",
    "grid.fit(X_train,y_train) "
   ]
  },
  {
   "cell_type": "code",
   "execution_count": 26,
   "metadata": {
    "execution": {
     "iopub.execute_input": "2021-01-27T16:09:21.731286Z",
     "iopub.status.busy": "2021-01-27T16:09:21.729919Z",
     "iopub.status.idle": "2021-01-27T16:09:21.804964Z",
     "shell.execute_reply": "2021-01-27T16:09:21.804409Z"
    },
    "papermill": {
     "duration": 0.126618,
     "end_time": "2021-01-27T16:09:21.805092",
     "exception": false,
     "start_time": "2021-01-27T16:09:21.678474",
     "status": "completed"
    },
    "tags": []
   },
   "outputs": [
    {
     "data": {
      "text/plain": [
       "0.7998580553584103"
      ]
     },
     "execution_count": 26,
     "metadata": {},
     "output_type": "execute_result"
    }
   ],
   "source": [
    "adpred=grid.predict(X_test)\n",
    "from sklearn import metrics\n",
    "metrics.accuracy_score(y_test,adpred)"
   ]
  },
  {
   "cell_type": "code",
   "execution_count": 27,
   "metadata": {
    "execution": {
     "iopub.execute_input": "2021-01-27T16:09:21.903084Z",
     "iopub.status.busy": "2021-01-27T16:09:21.901953Z",
     "iopub.status.idle": "2021-01-27T16:09:28.933688Z",
     "shell.execute_reply": "2021-01-27T16:09:28.932889Z"
    },
    "papermill": {
     "duration": 7.085882,
     "end_time": "2021-01-27T16:09:28.933814",
     "exception": false,
     "start_time": "2021-01-27T16:09:21.847932",
     "status": "completed"
    },
    "tags": []
   },
   "outputs": [
    {
     "data": {
      "text/plain": [
       "GradientBoostingClassifier(criterion='mse', learning_rate=0.2,\n",
       "                           min_samples_leaf=2, n_estimators=600,\n",
       "                           validation_fraction=0.0)"
      ]
     },
     "execution_count": 27,
     "metadata": {},
     "output_type": "execute_result"
    }
   ],
   "source": [
    "from sklearn.ensemble import GradientBoostingClassifier\n",
    "gra=GradientBoostingClassifier(loss='deviance', learning_rate=0.2, n_estimators=600,\n",
    "                               subsample=1.0, criterion='mse', \n",
    "                               min_samples_split=2, min_samples_leaf=2,\n",
    "                               max_depth=3,\n",
    "                               min_impurity_split=None,\n",
    "                               init=None, random_state=None, max_features=None, \n",
    "                               verbose=0, max_leaf_nodes=None, warm_start=False, \n",
    "                               validation_fraction=0.0, n_iter_no_change=None, tol=0.0001\n",
    "                    )\n",
    "gra.fit(X_train,y_train)"
   ]
  },
  {
   "cell_type": "code",
   "execution_count": 28,
   "metadata": {
    "execution": {
     "iopub.execute_input": "2021-01-27T16:09:29.031616Z",
     "iopub.status.busy": "2021-01-27T16:09:29.030844Z",
     "iopub.status.idle": "2021-01-27T16:09:29.049831Z",
     "shell.execute_reply": "2021-01-27T16:09:29.050393Z"
    },
    "papermill": {
     "duration": 0.072935,
     "end_time": "2021-01-27T16:09:29.050554",
     "exception": false,
     "start_time": "2021-01-27T16:09:28.977619",
     "status": "completed"
    },
    "tags": []
   },
   "outputs": [
    {
     "data": {
      "text/plain": [
       "0.7955997161107168"
      ]
     },
     "execution_count": 28,
     "metadata": {},
     "output_type": "execute_result"
    }
   ],
   "source": [
    "gapred1=gra.predict(X_test)\n",
    "from sklearn import metrics\n",
    "metrics.accuracy_score(y_test,gapred1)"
   ]
  },
  {
   "cell_type": "code",
   "execution_count": 29,
   "metadata": {
    "execution": {
     "iopub.execute_input": "2021-01-27T16:09:29.143586Z",
     "iopub.status.busy": "2021-01-27T16:09:29.142846Z",
     "iopub.status.idle": "2021-01-27T16:09:36.044756Z",
     "shell.execute_reply": "2021-01-27T16:09:36.042917Z"
    },
    "papermill": {
     "duration": 6.949995,
     "end_time": "2021-01-27T16:09:36.044898",
     "exception": false,
     "start_time": "2021-01-27T16:09:29.094903",
     "status": "completed"
    },
    "tags": []
   },
   "outputs": [],
   "source": [
    "# Importing some tools to preprocess the data:\n",
    "from sklearn.preprocessing import LabelEncoder, StandardScaler\n",
    "from sklearn.model_selection import train_test_split\n",
    "\n",
    "# Lets import some algorithms now:\n",
    "from sklearn.ensemble import RandomForestClassifier\n",
    "from sklearn.tree import DecisionTreeClassifier\n",
    "from sklearn.svm import SVC\n",
    "from sklearn.metrics import accuracy_score, r2_score\n",
    "\n",
    "# Importing tools form Keras library in order to build Neural Network:\n",
    "from keras.losses import binary_crossentropy\n",
    "from keras.layers import Dense\n",
    "from keras.models import Sequential\n",
    "from keras.metrics import Accuracy\n",
    "from keras.optimizers import RMSprop, SGD, Adam"
   ]
  },
  {
   "cell_type": "code",
   "execution_count": 30,
   "metadata": {
    "execution": {
     "iopub.execute_input": "2021-01-27T16:09:36.143500Z",
     "iopub.status.busy": "2021-01-27T16:09:36.142811Z",
     "iopub.status.idle": "2021-01-27T16:09:36.298455Z",
     "shell.execute_reply": "2021-01-27T16:09:36.298990Z"
    },
    "papermill": {
     "duration": 0.209677,
     "end_time": "2021-01-27T16:09:36.299150",
     "exception": false,
     "start_time": "2021-01-27T16:09:36.089473",
     "status": "completed"
    },
    "tags": []
   },
   "outputs": [],
   "source": [
    "NModel = Sequential([\n",
    "    Dense(128, input_shape=(41,), activation='relu'),\n",
    "    Dense(240, activation='relu'),\n",
    "    Dense(32, activation='relu'),\n",
    "    Dense(1, activation='sigmoid')\n",
    "    ])\n",
    "adam = Adam(learning_rate=0.007)\n",
    "NModel.compile(optimizer=adam, loss='binary_crossentropy', metrics=['accuracy'])"
   ]
  },
  {
   "cell_type": "code",
   "execution_count": 31,
   "metadata": {
    "execution": {
     "iopub.execute_input": "2021-01-27T16:09:36.395449Z",
     "iopub.status.busy": "2021-01-27T16:09:36.394774Z",
     "iopub.status.idle": "2021-01-27T16:10:16.094619Z",
     "shell.execute_reply": "2021-01-27T16:10:16.095148Z"
    },
    "papermill": {
     "duration": 39.751571,
     "end_time": "2021-01-27T16:10:16.095310",
     "exception": false,
     "start_time": "2021-01-27T16:09:36.343739",
     "status": "completed"
    },
    "tags": []
   },
   "outputs": [
    {
     "name": "stdout",
     "output_type": "stream",
     "text": [
      "Epoch 1/100\n",
      "177/177 [==============================] - 1s 3ms/step - loss: 5.8040 - accuracy: 0.7405 - val_loss: 0.5757 - val_accuracy: 0.7353\n",
      "Epoch 2/100\n",
      "177/177 [==============================] - 0s 2ms/step - loss: 0.5496 - accuracy: 0.7632 - val_loss: 0.5174 - val_accuracy: 0.7764\n",
      "Epoch 3/100\n",
      "177/177 [==============================] - 0s 2ms/step - loss: 0.5612 - accuracy: 0.7487 - val_loss: 0.5848 - val_accuracy: 0.7296\n",
      "Epoch 4/100\n",
      "177/177 [==============================] - 0s 2ms/step - loss: 0.5776 - accuracy: 0.7359 - val_loss: 0.5837 - val_accuracy: 0.7296\n",
      "Epoch 5/100\n",
      "177/177 [==============================] - 0s 2ms/step - loss: 0.5774 - accuracy: 0.7359 - val_loss: 0.5837 - val_accuracy: 0.7296\n",
      "Epoch 6/100\n",
      "177/177 [==============================] - 1s 3ms/step - loss: 0.5777 - accuracy: 0.7359 - val_loss: 0.5837 - val_accuracy: 0.7296\n",
      "Epoch 7/100\n",
      "177/177 [==============================] - 0s 2ms/step - loss: 0.5776 - accuracy: 0.7359 - val_loss: 0.5837 - val_accuracy: 0.7296\n",
      "Epoch 8/100\n",
      "177/177 [==============================] - 0s 2ms/step - loss: 0.5775 - accuracy: 0.7359 - val_loss: 0.5838 - val_accuracy: 0.7296\n",
      "Epoch 9/100\n",
      "177/177 [==============================] - 0s 2ms/step - loss: 0.5775 - accuracy: 0.7359 - val_loss: 0.5838 - val_accuracy: 0.7296\n",
      "Epoch 10/100\n",
      "177/177 [==============================] - 0s 2ms/step - loss: 0.5774 - accuracy: 0.7359 - val_loss: 0.5838 - val_accuracy: 0.7296\n",
      "Epoch 11/100\n",
      "177/177 [==============================] - 0s 2ms/step - loss: 0.5774 - accuracy: 0.7359 - val_loss: 0.5837 - val_accuracy: 0.7296\n",
      "Epoch 12/100\n",
      "177/177 [==============================] - 0s 3ms/step - loss: 0.5775 - accuracy: 0.7359 - val_loss: 0.5837 - val_accuracy: 0.7296\n",
      "Epoch 13/100\n",
      "177/177 [==============================] - 0s 2ms/step - loss: 0.5775 - accuracy: 0.7359 - val_loss: 0.5838 - val_accuracy: 0.7296\n",
      "Epoch 14/100\n",
      "177/177 [==============================] - 0s 2ms/step - loss: 0.5775 - accuracy: 0.7359 - val_loss: 0.5837 - val_accuracy: 0.7296\n",
      "Epoch 15/100\n",
      "177/177 [==============================] - 0s 2ms/step - loss: 0.5775 - accuracy: 0.7359 - val_loss: 0.5837 - val_accuracy: 0.7296\n",
      "Epoch 16/100\n",
      "177/177 [==============================] - 0s 2ms/step - loss: 0.5775 - accuracy: 0.7359 - val_loss: 0.5838 - val_accuracy: 0.7296\n",
      "Epoch 17/100\n",
      "177/177 [==============================] - 0s 2ms/step - loss: 0.5776 - accuracy: 0.7359 - val_loss: 0.5839 - val_accuracy: 0.7296\n",
      "Epoch 18/100\n",
      "177/177 [==============================] - 0s 2ms/step - loss: 0.5775 - accuracy: 0.7359 - val_loss: 0.5839 - val_accuracy: 0.7296\n",
      "Epoch 19/100\n",
      "177/177 [==============================] - 0s 2ms/step - loss: 0.5774 - accuracy: 0.7359 - val_loss: 0.5841 - val_accuracy: 0.7296\n",
      "Epoch 20/100\n",
      "177/177 [==============================] - 0s 2ms/step - loss: 0.5775 - accuracy: 0.7359 - val_loss: 0.5838 - val_accuracy: 0.7296\n",
      "Epoch 21/100\n",
      "177/177 [==============================] - 0s 2ms/step - loss: 0.5775 - accuracy: 0.7359 - val_loss: 0.5837 - val_accuracy: 0.7296\n",
      "Epoch 22/100\n",
      "177/177 [==============================] - 0s 2ms/step - loss: 0.5774 - accuracy: 0.7359 - val_loss: 0.5838 - val_accuracy: 0.7296\n",
      "Epoch 23/100\n",
      "177/177 [==============================] - 0s 2ms/step - loss: 0.5775 - accuracy: 0.7359 - val_loss: 0.5837 - val_accuracy: 0.7296\n",
      "Epoch 24/100\n",
      "177/177 [==============================] - 0s 2ms/step - loss: 0.5775 - accuracy: 0.7359 - val_loss: 0.5839 - val_accuracy: 0.7296\n",
      "Epoch 25/100\n",
      "177/177 [==============================] - 0s 2ms/step - loss: 0.5776 - accuracy: 0.7359 - val_loss: 0.5837 - val_accuracy: 0.7296\n",
      "Epoch 26/100\n",
      "177/177 [==============================] - 0s 2ms/step - loss: 0.5774 - accuracy: 0.7359 - val_loss: 0.5837 - val_accuracy: 0.7296\n",
      "Epoch 27/100\n",
      "177/177 [==============================] - 0s 2ms/step - loss: 0.5774 - accuracy: 0.7359 - val_loss: 0.5838 - val_accuracy: 0.7296\n",
      "Epoch 28/100\n",
      "177/177 [==============================] - 0s 2ms/step - loss: 0.5775 - accuracy: 0.7359 - val_loss: 0.5837 - val_accuracy: 0.7296\n",
      "Epoch 29/100\n",
      "177/177 [==============================] - 0s 2ms/step - loss: 0.5775 - accuracy: 0.7359 - val_loss: 0.5839 - val_accuracy: 0.7296\n",
      "Epoch 30/100\n",
      "177/177 [==============================] - 0s 2ms/step - loss: 0.5776 - accuracy: 0.7359 - val_loss: 0.5840 - val_accuracy: 0.7296\n",
      "Epoch 31/100\n",
      "177/177 [==============================] - 0s 2ms/step - loss: 0.5774 - accuracy: 0.7359 - val_loss: 0.5838 - val_accuracy: 0.7296\n",
      "Epoch 32/100\n",
      "177/177 [==============================] - 0s 2ms/step - loss: 0.5776 - accuracy: 0.7359 - val_loss: 0.5838 - val_accuracy: 0.7296\n",
      "Epoch 33/100\n",
      "177/177 [==============================] - 0s 2ms/step - loss: 0.5775 - accuracy: 0.7359 - val_loss: 0.5840 - val_accuracy: 0.7296\n",
      "Epoch 34/100\n",
      "177/177 [==============================] - 0s 2ms/step - loss: 0.5775 - accuracy: 0.7359 - val_loss: 0.5838 - val_accuracy: 0.7296\n",
      "Epoch 35/100\n",
      "177/177 [==============================] - 0s 2ms/step - loss: 0.5775 - accuracy: 0.7359 - val_loss: 0.5839 - val_accuracy: 0.7296\n",
      "Epoch 36/100\n",
      "177/177 [==============================] - 0s 2ms/step - loss: 0.5775 - accuracy: 0.7359 - val_loss: 0.5839 - val_accuracy: 0.7296\n",
      "Epoch 37/100\n",
      "177/177 [==============================] - 0s 2ms/step - loss: 0.5775 - accuracy: 0.7359 - val_loss: 0.5838 - val_accuracy: 0.7296\n",
      "Epoch 38/100\n",
      "177/177 [==============================] - 0s 2ms/step - loss: 0.5775 - accuracy: 0.7359 - val_loss: 0.5837 - val_accuracy: 0.7296\n",
      "Epoch 39/100\n",
      "177/177 [==============================] - 0s 2ms/step - loss: 0.5775 - accuracy: 0.7359 - val_loss: 0.5838 - val_accuracy: 0.7296\n",
      "Epoch 40/100\n",
      "177/177 [==============================] - 0s 2ms/step - loss: 0.5775 - accuracy: 0.7359 - val_loss: 0.5838 - val_accuracy: 0.7296\n",
      "Epoch 41/100\n",
      "177/177 [==============================] - 0s 2ms/step - loss: 0.5774 - accuracy: 0.7359 - val_loss: 0.5837 - val_accuracy: 0.7296\n",
      "Epoch 42/100\n",
      "177/177 [==============================] - 0s 2ms/step - loss: 0.5775 - accuracy: 0.7359 - val_loss: 0.5837 - val_accuracy: 0.7296\n",
      "Epoch 43/100\n",
      "177/177 [==============================] - 0s 2ms/step - loss: 0.5775 - accuracy: 0.7359 - val_loss: 0.5838 - val_accuracy: 0.7296\n",
      "Epoch 44/100\n",
      "177/177 [==============================] - 0s 2ms/step - loss: 0.5776 - accuracy: 0.7359 - val_loss: 0.5839 - val_accuracy: 0.7296\n",
      "Epoch 45/100\n",
      "177/177 [==============================] - 0s 2ms/step - loss: 0.5775 - accuracy: 0.7359 - val_loss: 0.5837 - val_accuracy: 0.7296\n",
      "Epoch 46/100\n",
      "177/177 [==============================] - 0s 2ms/step - loss: 0.5776 - accuracy: 0.7359 - val_loss: 0.5837 - val_accuracy: 0.7296\n",
      "Epoch 47/100\n",
      "177/177 [==============================] - 0s 2ms/step - loss: 0.5776 - accuracy: 0.7359 - val_loss: 0.5837 - val_accuracy: 0.7296\n",
      "Epoch 48/100\n",
      "177/177 [==============================] - 0s 2ms/step - loss: 0.5775 - accuracy: 0.7359 - val_loss: 0.5838 - val_accuracy: 0.7296\n",
      "Epoch 49/100\n",
      "177/177 [==============================] - 0s 2ms/step - loss: 0.5775 - accuracy: 0.7359 - val_loss: 0.5837 - val_accuracy: 0.7296\n",
      "Epoch 50/100\n",
      "177/177 [==============================] - 0s 2ms/step - loss: 0.5776 - accuracy: 0.7359 - val_loss: 0.5837 - val_accuracy: 0.7296\n",
      "Epoch 51/100\n",
      "177/177 [==============================] - 0s 2ms/step - loss: 0.5775 - accuracy: 0.7359 - val_loss: 0.5837 - val_accuracy: 0.7296\n",
      "Epoch 52/100\n",
      "177/177 [==============================] - 0s 2ms/step - loss: 0.5775 - accuracy: 0.7359 - val_loss: 0.5837 - val_accuracy: 0.7296\n",
      "Epoch 53/100\n",
      "177/177 [==============================] - 0s 2ms/step - loss: 0.5774 - accuracy: 0.7359 - val_loss: 0.5837 - val_accuracy: 0.7296\n",
      "Epoch 54/100\n",
      "177/177 [==============================] - 0s 2ms/step - loss: 0.5775 - accuracy: 0.7359 - val_loss: 0.5837 - val_accuracy: 0.7296\n",
      "Epoch 55/100\n",
      "177/177 [==============================] - 0s 2ms/step - loss: 0.5775 - accuracy: 0.7359 - val_loss: 0.5837 - val_accuracy: 0.7296\n",
      "Epoch 56/100\n",
      "177/177 [==============================] - 0s 2ms/step - loss: 0.5775 - accuracy: 0.7359 - val_loss: 0.5839 - val_accuracy: 0.7296\n",
      "Epoch 57/100\n",
      "177/177 [==============================] - 0s 2ms/step - loss: 0.5775 - accuracy: 0.7359 - val_loss: 0.5839 - val_accuracy: 0.7296\n",
      "Epoch 58/100\n",
      "177/177 [==============================] - 0s 2ms/step - loss: 0.5774 - accuracy: 0.7359 - val_loss: 0.5839 - val_accuracy: 0.7296\n",
      "Epoch 59/100\n",
      "177/177 [==============================] - 0s 2ms/step - loss: 0.5773 - accuracy: 0.7359 - val_loss: 0.5837 - val_accuracy: 0.7296\n",
      "Epoch 60/100\n",
      "177/177 [==============================] - 0s 2ms/step - loss: 0.5775 - accuracy: 0.7359 - val_loss: 0.5838 - val_accuracy: 0.7296\n",
      "Epoch 61/100\n",
      "177/177 [==============================] - 0s 2ms/step - loss: 0.5775 - accuracy: 0.7359 - val_loss: 0.5837 - val_accuracy: 0.7296\n",
      "Epoch 62/100\n",
      "177/177 [==============================] - 0s 2ms/step - loss: 0.5775 - accuracy: 0.7359 - val_loss: 0.5838 - val_accuracy: 0.7296\n",
      "Epoch 63/100\n",
      "177/177 [==============================] - 0s 2ms/step - loss: 0.5775 - accuracy: 0.7359 - val_loss: 0.5837 - val_accuracy: 0.7296\n",
      "Epoch 64/100\n",
      "177/177 [==============================] - 0s 2ms/step - loss: 0.5775 - accuracy: 0.7359 - val_loss: 0.5837 - val_accuracy: 0.7296\n",
      "Epoch 65/100\n",
      "177/177 [==============================] - 0s 2ms/step - loss: 0.5775 - accuracy: 0.7359 - val_loss: 0.5842 - val_accuracy: 0.7296\n",
      "Epoch 66/100\n",
      "177/177 [==============================] - 0s 2ms/step - loss: 0.5776 - accuracy: 0.7359 - val_loss: 0.5840 - val_accuracy: 0.7296\n",
      "Epoch 67/100\n",
      "177/177 [==============================] - 0s 2ms/step - loss: 0.5774 - accuracy: 0.7359 - val_loss: 0.5837 - val_accuracy: 0.7296\n",
      "Epoch 68/100\n",
      "177/177 [==============================] - 0s 2ms/step - loss: 0.5775 - accuracy: 0.7359 - val_loss: 0.5837 - val_accuracy: 0.7296\n",
      "Epoch 69/100\n",
      "177/177 [==============================] - 0s 2ms/step - loss: 0.5775 - accuracy: 0.7359 - val_loss: 0.5838 - val_accuracy: 0.7296\n",
      "Epoch 70/100\n",
      "177/177 [==============================] - 0s 2ms/step - loss: 0.5775 - accuracy: 0.7359 - val_loss: 0.5838 - val_accuracy: 0.7296\n",
      "Epoch 71/100\n",
      "177/177 [==============================] - 0s 2ms/step - loss: 0.5775 - accuracy: 0.7359 - val_loss: 0.5838 - val_accuracy: 0.7296\n",
      "Epoch 72/100\n",
      "177/177 [==============================] - 0s 2ms/step - loss: 0.5774 - accuracy: 0.7359 - val_loss: 0.5838 - val_accuracy: 0.7296\n",
      "Epoch 73/100\n",
      "177/177 [==============================] - 0s 2ms/step - loss: 0.5775 - accuracy: 0.7359 - val_loss: 0.5837 - val_accuracy: 0.7296\n",
      "Epoch 74/100\n",
      "177/177 [==============================] - 0s 2ms/step - loss: 0.5775 - accuracy: 0.7359 - val_loss: 0.5837 - val_accuracy: 0.7296\n",
      "Epoch 75/100\n",
      "177/177 [==============================] - 0s 2ms/step - loss: 0.5775 - accuracy: 0.7359 - val_loss: 0.5837 - val_accuracy: 0.7296\n",
      "Epoch 76/100\n",
      "177/177 [==============================] - 0s 2ms/step - loss: 0.5777 - accuracy: 0.7359 - val_loss: 0.5839 - val_accuracy: 0.7296\n",
      "Epoch 77/100\n",
      "177/177 [==============================] - 0s 2ms/step - loss: 0.5775 - accuracy: 0.7359 - val_loss: 0.5837 - val_accuracy: 0.7296\n",
      "Epoch 78/100\n",
      "177/177 [==============================] - 0s 2ms/step - loss: 0.5775 - accuracy: 0.7359 - val_loss: 0.5837 - val_accuracy: 0.7296\n",
      "Epoch 79/100\n",
      "177/177 [==============================] - 0s 2ms/step - loss: 0.5774 - accuracy: 0.7359 - val_loss: 0.5838 - val_accuracy: 0.7296\n",
      "Epoch 80/100\n",
      "177/177 [==============================] - 0s 2ms/step - loss: 0.5775 - accuracy: 0.7359 - val_loss: 0.5837 - val_accuracy: 0.7296\n",
      "Epoch 81/100\n",
      "177/177 [==============================] - 0s 2ms/step - loss: 0.5775 - accuracy: 0.7359 - val_loss: 0.5837 - val_accuracy: 0.7296\n",
      "Epoch 82/100\n",
      "177/177 [==============================] - 0s 2ms/step - loss: 0.5775 - accuracy: 0.7359 - val_loss: 0.5837 - val_accuracy: 0.7296\n",
      "Epoch 83/100\n",
      "177/177 [==============================] - 0s 2ms/step - loss: 0.5775 - accuracy: 0.7359 - val_loss: 0.5838 - val_accuracy: 0.7296\n",
      "Epoch 84/100\n",
      "177/177 [==============================] - 0s 2ms/step - loss: 0.5775 - accuracy: 0.7359 - val_loss: 0.5837 - val_accuracy: 0.7296\n",
      "Epoch 85/100\n",
      "177/177 [==============================] - 0s 2ms/step - loss: 0.5776 - accuracy: 0.7359 - val_loss: 0.5837 - val_accuracy: 0.7296\n",
      "Epoch 86/100\n",
      "177/177 [==============================] - 0s 2ms/step - loss: 0.5773 - accuracy: 0.7359 - val_loss: 0.5846 - val_accuracy: 0.7296\n",
      "Epoch 87/100\n",
      "177/177 [==============================] - 0s 2ms/step - loss: 0.5775 - accuracy: 0.7359 - val_loss: 0.5837 - val_accuracy: 0.7296\n",
      "Epoch 88/100\n",
      "177/177 [==============================] - 0s 2ms/step - loss: 0.5776 - accuracy: 0.7359 - val_loss: 0.5838 - val_accuracy: 0.7296\n",
      "Epoch 89/100\n",
      "177/177 [==============================] - 0s 2ms/step - loss: 0.5774 - accuracy: 0.7359 - val_loss: 0.5844 - val_accuracy: 0.7296\n",
      "Epoch 90/100\n",
      "177/177 [==============================] - 0s 2ms/step - loss: 0.5775 - accuracy: 0.7359 - val_loss: 0.5838 - val_accuracy: 0.7296\n",
      "Epoch 91/100\n",
      "177/177 [==============================] - 0s 2ms/step - loss: 0.5775 - accuracy: 0.7359 - val_loss: 0.5837 - val_accuracy: 0.7296\n",
      "Epoch 92/100\n",
      "177/177 [==============================] - 0s 2ms/step - loss: 0.5777 - accuracy: 0.7359 - val_loss: 0.5837 - val_accuracy: 0.7296\n",
      "Epoch 93/100\n",
      "177/177 [==============================] - 0s 2ms/step - loss: 0.5776 - accuracy: 0.7359 - val_loss: 0.5837 - val_accuracy: 0.7296\n",
      "Epoch 94/100\n",
      "177/177 [==============================] - 0s 2ms/step - loss: 0.5775 - accuracy: 0.7359 - val_loss: 0.5839 - val_accuracy: 0.7296\n",
      "Epoch 95/100\n",
      "177/177 [==============================] - 0s 2ms/step - loss: 0.5775 - accuracy: 0.7359 - val_loss: 0.5838 - val_accuracy: 0.7296\n",
      "Epoch 96/100\n",
      "177/177 [==============================] - 0s 2ms/step - loss: 0.5775 - accuracy: 0.7359 - val_loss: 0.5838 - val_accuracy: 0.7296\n",
      "Epoch 97/100\n",
      "177/177 [==============================] - 0s 2ms/step - loss: 0.5776 - accuracy: 0.7359 - val_loss: 0.5839 - val_accuracy: 0.7296\n",
      "Epoch 98/100\n",
      "177/177 [==============================] - 0s 2ms/step - loss: 0.5774 - accuracy: 0.7359 - val_loss: 0.5837 - val_accuracy: 0.7296\n",
      "Epoch 99/100\n",
      "177/177 [==============================] - 0s 2ms/step - loss: 0.5775 - accuracy: 0.7359 - val_loss: 0.5838 - val_accuracy: 0.7296\n",
      "Epoch 100/100\n",
      "177/177 [==============================] - 0s 2ms/step - loss: 0.5775 - accuracy: 0.7359 - val_loss: 0.5838 - val_accuracy: 0.7296\n",
      "0.7295954577714692\n"
     ]
    }
   ],
   "source": [
    "Fit = NModel.fit(X_train, y_train, epochs=100, validation_data=(X_test, y_test))\n",
    "    \n",
    "y_pred=NModel.predict(X_test)\n",
    "from sklearn import metrics\n",
    "print(metrics.accuracy_score(y_pred.round(),y_test))"
   ]
  },
  {
   "cell_type": "code",
   "execution_count": 32,
   "metadata": {
    "execution": {
     "iopub.execute_input": "2021-01-27T16:10:16.727716Z",
     "iopub.status.busy": "2021-01-27T16:10:16.726836Z",
     "iopub.status.idle": "2021-01-27T16:10:18.031750Z",
     "shell.execute_reply": "2021-01-27T16:10:18.031075Z"
    },
    "papermill": {
     "duration": 1.62471,
     "end_time": "2021-01-27T16:10:18.031912",
     "exception": false,
     "start_time": "2021-01-27T16:10:16.407202",
     "status": "completed"
    },
    "tags": []
   },
   "outputs": [],
   "source": [
    "from tpot import TPOTClassifier\n",
    "\n",
    "parameters = {\n",
    "        'learning_rate': [0.01, 0.1],\n",
    "        'max_depth': [3, 5, 7, 10],\n",
    "        'min_child_weight': [1, 3, 5],\n",
    "        'subsample': [0.5, 0.7],\n",
    "        'colsample_bytree': [0.5, 0.7],\n",
    "        'n_estimators' : [100, 200, 500],\n",
    "        'objective': ['reg:squarederror']}\n",
    "               \n",
    "tpot_classifier = TPOTClassifier(generations= 5, population_size= 24, offspring_size= 12,\n",
    "                                 verbosity= 2, early_stop= 12,\n",
    "                                 config_dict=\n",
    "                                 {'xgboost.XGBClassifier': parameters}, \n",
    "                                 cv = 10, scoring = 'accuracy')"
   ]
  },
  {
   "cell_type": "code",
   "execution_count": 33,
   "metadata": {
    "execution": {
     "iopub.execute_input": "2021-01-27T16:10:18.663456Z",
     "iopub.status.busy": "2021-01-27T16:10:18.662389Z",
     "iopub.status.idle": "2021-01-27T16:34:49.721759Z",
     "shell.execute_reply": "2021-01-27T16:34:49.721047Z"
    },
    "papermill": {
     "duration": 1471.379243,
     "end_time": "2021-01-27T16:34:49.721885",
     "exception": false,
     "start_time": "2021-01-27T16:10:18.342642",
     "status": "completed"
    },
    "tags": []
   },
   "outputs": [
    {
     "name": "stderr",
     "output_type": "stream",
     "text": [
      "Version 0.11.6.post2 of tpot is outdated. Version 0.11.7 was released Wednesday January 06, 2021.\n"
     ]
    },
    {
     "data": {
      "application/vnd.jupyter.widget-view+json": {
       "model_id": "38ac3ce379f64731aeecb07eee171742",
       "version_major": 2,
       "version_minor": 0
      },
      "text/plain": [
       "HBox(children=(FloatProgress(value=0.0, description='Optimization Progress', max=84.0, style=ProgressStyle(des…"
      ]
     },
     "metadata": {},
     "output_type": "display_data"
    },
    {
     "name": "stdout",
     "output_type": "stream",
     "text": [
      "\r\n",
      "Generation 1 - Current best internal CV score: 0.8086551906579494\n",
      "\r\n",
      "Generation 2 - Current best internal CV score: 0.8086551906579494\n",
      "\r\n",
      "Generation 3 - Current best internal CV score: 0.8086551906579494\n",
      "\r\n",
      "Generation 4 - Current best internal CV score: 0.8086551906579494\n",
      "\r\n",
      "Generation 5 - Current best internal CV score: 0.8090085408714712\n",
      "\n",
      "Best pipeline: XGBClassifier(CombineDFs(input_matrix, input_matrix), colsample_bytree=0.7, learning_rate=0.01, max_depth=5, min_child_weight=5, n_estimators=200, objective=reg:squarederror, subsample=0.5)\n"
     ]
    },
    {
     "data": {
      "text/plain": [
       "TPOTClassifier(config_dict={'xgboost.XGBClassifier': {'colsample_bytree': [0.5,\n",
       "                                                                           0.7],\n",
       "                                                      'learning_rate': [0.01,\n",
       "                                                                        0.1],\n",
       "                                                      'max_depth': [3, 5, 7,\n",
       "                                                                    10],\n",
       "                                                      'min_child_weight': [1, 3,\n",
       "                                                                           5],\n",
       "                                                      'n_estimators': [100, 200,\n",
       "                                                                       500],\n",
       "                                                      'objective': ['reg:squarederror'],\n",
       "                                                      'subsample': [0.5, 0.7]}},\n",
       "               cv=10, early_stop=12, generations=5, offspring_size=12,\n",
       "               population_size=24, scoring='accuracy', verbosity=2)"
      ]
     },
     "execution_count": 33,
     "metadata": {},
     "output_type": "execute_result"
    }
   ],
   "source": [
    "tpot_classifier.fit(X_train,y_train) "
   ]
  },
  {
   "cell_type": "code",
   "execution_count": 34,
   "metadata": {
    "execution": {
     "iopub.execute_input": "2021-01-27T16:34:50.373071Z",
     "iopub.status.busy": "2021-01-27T16:34:50.370250Z",
     "iopub.status.idle": "2021-01-27T16:34:50.390556Z",
     "shell.execute_reply": "2021-01-27T16:34:50.389970Z"
    },
    "papermill": {
     "duration": 0.343267,
     "end_time": "2021-01-27T16:34:50.390695",
     "exception": false,
     "start_time": "2021-01-27T16:34:50.047428",
     "status": "completed"
    },
    "tags": []
   },
   "outputs": [],
   "source": [
    "tpot=tpot_classifier.predict(X_test)"
   ]
  },
  {
   "cell_type": "code",
   "execution_count": 35,
   "metadata": {
    "execution": {
     "iopub.execute_input": "2021-01-27T16:34:51.029872Z",
     "iopub.status.busy": "2021-01-27T16:34:51.028761Z",
     "iopub.status.idle": "2021-01-27T16:52:12.288170Z",
     "shell.execute_reply": "2021-01-27T16:52:12.288730Z"
    },
    "papermill": {
     "duration": 1041.583459,
     "end_time": "2021-01-27T16:52:12.288909",
     "exception": false,
     "start_time": "2021-01-27T16:34:50.705450",
     "status": "completed"
    },
    "tags": []
   },
   "outputs": [],
   "source": [
    "from sklearn.ensemble  import AdaBoostClassifier\n",
    "ada_classifier = AdaBoostClassifier(random_state=42)\n",
    "cv_sets = ShuffleSplit(random_state = 4) # shuffling our data for cross-validation\n",
    "parameters = {'n_estimators':[500, 1000, 1500, 2000], \n",
    "              'learning_rate':[0.05, 0.1, 0.15, 0.2]}\n",
    "scorer = make_scorer(f1_score)\n",
    "ada_obj = RandomizedSearchCV(ada_classifier, \n",
    "                              parameters, \n",
    "                              scoring = scorer, \n",
    "                             cv = cv_sets,\n",
    "                              random_state= 99)\n",
    "ada_fit = ada_obj.fit(X_train, y_train)\n",
    "ada_opt = ada_fit.best_estimator_"
   ]
  },
  {
   "cell_type": "code",
   "execution_count": 36,
   "metadata": {
    "execution": {
     "iopub.execute_input": "2021-01-27T16:52:12.964351Z",
     "iopub.status.busy": "2021-01-27T16:52:12.963662Z",
     "iopub.status.idle": "2021-01-27T16:52:13.600548Z",
     "shell.execute_reply": "2021-01-27T16:52:13.601063Z"
    },
    "papermill": {
     "duration": 0.997505,
     "end_time": "2021-01-27T16:52:13.601215",
     "exception": false,
     "start_time": "2021-01-27T16:52:12.603710",
     "status": "completed"
    },
    "tags": []
   },
   "outputs": [],
   "source": [
    "adapred=ada_fit.predict(X_test)"
   ]
  },
  {
   "cell_type": "code",
   "execution_count": 37,
   "metadata": {
    "execution": {
     "iopub.execute_input": "2021-01-27T16:52:14.238313Z",
     "iopub.status.busy": "2021-01-27T16:52:14.237353Z",
     "iopub.status.idle": "2021-01-27T16:52:14.242631Z",
     "shell.execute_reply": "2021-01-27T16:52:14.243603Z"
    },
    "papermill": {
     "duration": 0.326352,
     "end_time": "2021-01-27T16:52:14.243753",
     "exception": false,
     "start_time": "2021-01-27T16:52:13.917401",
     "status": "completed"
    },
    "tags": []
   },
   "outputs": [
    {
     "data": {
      "text/plain": [
       "0.8041163946061036"
      ]
     },
     "execution_count": 37,
     "metadata": {},
     "output_type": "execute_result"
    }
   ],
   "source": [
    "from sklearn import metrics\n",
    "metrics.accuracy_score(y_test,adapred)"
   ]
  },
  {
   "cell_type": "code",
   "execution_count": 38,
   "metadata": {
    "execution": {
     "iopub.execute_input": "2021-01-27T16:52:14.883138Z",
     "iopub.status.busy": "2021-01-27T16:52:14.881999Z",
     "iopub.status.idle": "2021-01-27T16:52:15.506000Z",
     "shell.execute_reply": "2021-01-27T16:52:15.505370Z"
    },
    "papermill": {
     "duration": 0.949166,
     "end_time": "2021-01-27T16:52:15.506120",
     "exception": false,
     "start_time": "2021-01-27T16:52:14.556954",
     "status": "completed"
    },
    "tags": []
   },
   "outputs": [
    {
     "data": {
      "text/plain": [
       "0.801277501774308"
      ]
     },
     "execution_count": 38,
     "metadata": {},
     "output_type": "execute_result"
    }
   ],
   "source": [
    "from sklearn.ensemble import RandomForestClassifier\n",
    "rf=RandomForestClassifier(n_estimators=100, max_features='auto', bootstrap=True, max_depth=10, min_samples_leaf=2,min_samples_split=9)\n",
    "rf.fit(X_train,y_train)\n",
    "rf_predict=rf.predict(X_test)\n",
    "from sklearn import metrics\n",
    "metrics.accuracy_score(y_test,rf_predict)"
   ]
  },
  {
   "cell_type": "code",
   "execution_count": 39,
   "metadata": {
    "execution": {
     "iopub.execute_input": "2021-01-27T16:52:16.150552Z",
     "iopub.status.busy": "2021-01-27T16:52:16.149411Z",
     "iopub.status.idle": "2021-01-27T16:52:17.243611Z",
     "shell.execute_reply": "2021-01-27T16:52:17.243033Z"
    },
    "papermill": {
     "duration": 1.420497,
     "end_time": "2021-01-27T16:52:17.243727",
     "exception": false,
     "start_time": "2021-01-27T16:52:15.823230",
     "status": "completed"
    },
    "tags": []
   },
   "outputs": [
    {
     "data": {
      "text/plain": [
       "0.7934705464868701"
      ]
     },
     "execution_count": 39,
     "metadata": {},
     "output_type": "execute_result"
    }
   ],
   "source": [
    "from sklearn.ensemble import RandomForestClassifier\n",
    "rf=RandomForestClassifier(criterion='entropy',n_estimators=100,max_depth=200,oob_score=True,random_state=40)\n",
    "rf.fit(X_train,y_train)\n",
    "rf_predict=rf.predict(X_test)\n",
    "from sklearn import metrics\n",
    "metrics.accuracy_score(y_test,rf_predict)"
   ]
  },
  {
   "cell_type": "code",
   "execution_count": 40,
   "metadata": {
    "execution": {
     "iopub.execute_input": "2021-01-27T16:52:17.881809Z",
     "iopub.status.busy": "2021-01-27T16:52:17.881077Z",
     "iopub.status.idle": "2021-01-27T16:52:17.884891Z",
     "shell.execute_reply": "2021-01-27T16:52:17.885872Z"
    },
    "papermill": {
     "duration": 0.329448,
     "end_time": "2021-01-27T16:52:17.886047",
     "exception": false,
     "start_time": "2021-01-27T16:52:17.556599",
     "status": "completed"
    },
    "tags": []
   },
   "outputs": [],
   "source": [
    "from sklearn.ensemble import GradientBoostingClassifier\n",
    "from sklearn.model_selection import RandomizedSearchCV\n",
    "from sklearn.model_selection import GridSearchCV, cross_val_score, StratifiedKFold, learning_curve,KFold"
   ]
  },
  {
   "cell_type": "code",
   "execution_count": 41,
   "metadata": {
    "execution": {
     "iopub.execute_input": "2021-01-27T16:52:18.525665Z",
     "iopub.status.busy": "2021-01-27T16:52:18.524823Z",
     "iopub.status.idle": "2021-01-27T16:52:18.528969Z",
     "shell.execute_reply": "2021-01-27T16:52:18.528385Z"
    },
    "papermill": {
     "duration": 0.32318,
     "end_time": "2021-01-27T16:52:18.529091",
     "exception": false,
     "start_time": "2021-01-27T16:52:18.205911",
     "status": "completed"
    },
    "tags": []
   },
   "outputs": [],
   "source": [
    "kfold=StratifiedKFold(n_splits=5,shuffle=True)"
   ]
  },
  {
   "cell_type": "code",
   "execution_count": 42,
   "metadata": {
    "execution": {
     "iopub.execute_input": "2021-01-27T16:52:19.181963Z",
     "iopub.status.busy": "2021-01-27T16:52:19.181182Z",
     "iopub.status.idle": "2021-01-27T16:54:33.957692Z",
     "shell.execute_reply": "2021-01-27T16:54:33.958268Z"
    },
    "papermill": {
     "duration": 135.105215,
     "end_time": "2021-01-27T16:54:33.958415",
     "exception": false,
     "start_time": "2021-01-27T16:52:18.853200",
     "status": "completed"
    },
    "tags": []
   },
   "outputs": [
    {
     "data": {
      "text/plain": [
       "RandomizedSearchCV(cv=StratifiedKFold(n_splits=5, random_state=None, shuffle=True),\n",
       "                   estimator=GradientBoostingClassifier(), n_jobs=1,\n",
       "                   param_distributions={'learning_rate': [0.1, 0.05, 0.01],\n",
       "                                        'loss': ['deviance'],\n",
       "                                        'max_depth': [4, 8],\n",
       "                                        'min_samples_leaf': [100, 150],\n",
       "                                        'n_estimators': [100, 200, 300]},\n",
       "                   random_state=3, scoring='roc_auc')"
      ]
     },
     "execution_count": 42,
     "metadata": {},
     "output_type": "execute_result"
    }
   ],
   "source": [
    "GBC = GradientBoostingClassifier()\n",
    "gb_param_grid = {'loss' : [\"deviance\"],\n",
    "                 \n",
    "              'n_estimators' : [100,200,300],\n",
    "              'learning_rate': [0.1, 0.05, 0.01],\n",
    "              'max_depth': [4, 8],\n",
    "              'min_samples_leaf': [100,150],\n",
    "              \n",
    "              }\n",
    "gsGBC=RandomizedSearchCV(estimator=GBC,param_distributions=gb_param_grid,random_state=3,scoring = \"roc_auc\", \n",
    "                                     cv =kfold,n_jobs=1)\n",
    " \n",
    "\n",
    "gsGBC.fit(X_train,y_train)"
   ]
  },
  {
   "cell_type": "code",
   "execution_count": 43,
   "metadata": {
    "execution": {
     "iopub.execute_input": "2021-01-27T16:54:34.596548Z",
     "iopub.status.busy": "2021-01-27T16:54:34.595441Z",
     "iopub.status.idle": "2021-01-27T16:54:34.599759Z",
     "shell.execute_reply": "2021-01-27T16:54:34.600556Z"
    },
    "papermill": {
     "duration": 0.325834,
     "end_time": "2021-01-27T16:54:34.600729",
     "exception": false,
     "start_time": "2021-01-27T16:54:34.274895",
     "status": "completed"
    },
    "tags": []
   },
   "outputs": [],
   "source": [
    "GBC_best = gsGBC.best_estimator_"
   ]
  },
  {
   "cell_type": "code",
   "execution_count": 44,
   "metadata": {
    "execution": {
     "iopub.execute_input": "2021-01-27T16:54:35.268564Z",
     "iopub.status.busy": "2021-01-27T16:54:35.267823Z",
     "iopub.status.idle": "2021-01-27T16:54:35.284071Z",
     "shell.execute_reply": "2021-01-27T16:54:35.283381Z"
    },
    "papermill": {
     "duration": 0.336394,
     "end_time": "2021-01-27T16:54:35.284184",
     "exception": false,
     "start_time": "2021-01-27T16:54:34.947790",
     "status": "completed"
    },
    "tags": []
   },
   "outputs": [
    {
     "data": {
      "text/plain": [
       "0.7984386089425124"
      ]
     },
     "execution_count": 44,
     "metadata": {},
     "output_type": "execute_result"
    }
   ],
   "source": [
    "y_pred=gsGBC.predict(X_test)\n",
    "from sklearn import metrics\n",
    "metrics.accuracy_score(y_pred,y_test)"
   ]
  },
  {
   "cell_type": "code",
   "execution_count": 45,
   "metadata": {
    "execution": {
     "iopub.execute_input": "2021-01-27T16:54:35.929093Z",
     "iopub.status.busy": "2021-01-27T16:54:35.928334Z",
     "iopub.status.idle": "2021-01-27T16:54:35.941844Z",
     "shell.execute_reply": "2021-01-27T16:54:35.941108Z"
    },
    "papermill": {
     "duration": 0.339009,
     "end_time": "2021-01-27T16:54:35.941969",
     "exception": false,
     "start_time": "2021-01-27T16:54:35.602960",
     "status": "completed"
    },
    "tags": []
   },
   "outputs": [
    {
     "name": "stderr",
     "output_type": "stream",
     "text": [
      "/opt/conda/lib/python3.7/site-packages/sklearn/utils/validation.py:70: FutureWarning: Pass classes=[0 1], y=0       0\n",
      "1       0\n",
      "2       1\n",
      "3       0\n",
      "4       1\n",
      "       ..\n",
      "5629    1\n",
      "5630    1\n",
      "5631    0\n",
      "5632    0\n",
      "5633    0\n",
      "Name: Churn, Length: 5634, dtype: int64 as keyword args. From version 0.25 passing these as positional arguments will result in an error\n",
      "  FutureWarning)\n"
     ]
    }
   ],
   "source": [
    "from sklearn.utils import class_weight\n",
    "class_weights = class_weight.compute_class_weight('balanced',\n",
    "                                                 np.unique(y_train),\n",
    "                                                 y_train)"
   ]
  },
  {
   "cell_type": "code",
   "execution_count": 46,
   "metadata": {
    "execution": {
     "iopub.execute_input": "2021-01-27T16:54:36.617916Z",
     "iopub.status.busy": "2021-01-27T16:54:36.616904Z",
     "iopub.status.idle": "2021-01-27T16:55:31.328178Z",
     "shell.execute_reply": "2021-01-27T16:55:31.327606Z"
    },
    "papermill": {
     "duration": 55.065466,
     "end_time": "2021-01-27T16:55:31.328306",
     "exception": false,
     "start_time": "2021-01-27T16:54:36.262840",
     "status": "completed"
    },
    "tags": []
   },
   "outputs": [
    {
     "name": "stdout",
     "output_type": "stream",
     "text": [
      "Fitting 5 folds for each of 18 candidates, totalling 90 fits\n"
     ]
    },
    {
     "name": "stderr",
     "output_type": "stream",
     "text": [
      "[Parallel(n_jobs=-1)]: Using backend LokyBackend with 4 concurrent workers.\n",
      "[Parallel(n_jobs=-1)]: Done  42 tasks      | elapsed:   27.3s\n",
      "[Parallel(n_jobs=-1)]: Done  90 out of  90 | elapsed:   52.5s finished\n"
     ]
    },
    {
     "data": {
      "text/plain": [
       "GridSearchCV(cv=StratifiedKFold(n_splits=5, random_state=None, shuffle=True),\n",
       "             estimator=RandomForestClassifier(class_weight={0: 0.6794500723589001,\n",
       "                                                            1: 1.8931451612903225}),\n",
       "             n_jobs=-1,\n",
       "             param_grid={'bootstrap': [False], 'criterion': ['gini'],\n",
       "                         'max_depth': [None], 'min_samples_leaf': [1, 3, 10],\n",
       "                         'min_samples_split': [2, 3, 10],\n",
       "                         'n_estimators': [100, 300]},\n",
       "             scoring='roc_auc', verbose=1)"
      ]
     },
     "execution_count": 46,
     "metadata": {},
     "output_type": "execute_result"
    }
   ],
   "source": [
    "RFC = RandomForestClassifier(class_weight=dict(enumerate(class_weights)))\n",
    "#class_weight_dict = )\n",
    "#\n",
    "## Search grid for optimal parameters\n",
    "rf_param_grid = {\"max_depth\": [None],\n",
    "              \n",
    "              \"min_samples_split\": [2, 3, 10],\n",
    "              \"min_samples_leaf\": [1, 3, 10],\n",
    "              \"bootstrap\": [False],\n",
    "              \"n_estimators\" :[100,300],\n",
    "              \"criterion\": [\"gini\"]}\n",
    "\n",
    "\n",
    "gsRFC = GridSearchCV(RFC,param_grid = rf_param_grid, cv=kfold, scoring=\"roc_auc\", n_jobs= -1, verbose = 1)\n",
    "\n",
    "gsRFC.fit(X_train,y_train)"
   ]
  },
  {
   "cell_type": "code",
   "execution_count": 47,
   "metadata": {
    "execution": {
     "iopub.execute_input": "2021-01-27T16:55:31.977032Z",
     "iopub.status.busy": "2021-01-27T16:55:31.975919Z",
     "iopub.status.idle": "2021-01-27T16:55:32.078309Z",
     "shell.execute_reply": "2021-01-27T16:55:32.077638Z"
    },
    "papermill": {
     "duration": 0.432192,
     "end_time": "2021-01-27T16:55:32.078424",
     "exception": false,
     "start_time": "2021-01-27T16:55:31.646232",
     "status": "completed"
    },
    "tags": []
   },
   "outputs": [
    {
     "data": {
      "text/plain": [
       "0.7615330021291696"
      ]
     },
     "execution_count": 47,
     "metadata": {},
     "output_type": "execute_result"
    }
   ],
   "source": [
    "RFC_best = gsRFC.best_estimator_\n",
    "rif_pred=RFC_best.predict(X_test)\n",
    "from sklearn import metrics\n",
    "metrics.accuracy_score(rif_pred,y_test)"
   ]
  },
  {
   "cell_type": "code",
   "execution_count": 48,
   "metadata": {
    "execution": {
     "iopub.execute_input": "2021-01-27T16:55:32.724805Z",
     "iopub.status.busy": "2021-01-27T16:55:32.723726Z",
     "iopub.status.idle": "2021-01-27T16:55:33.706447Z",
     "shell.execute_reply": "2021-01-27T16:55:33.705377Z"
    },
    "papermill": {
     "duration": 1.311417,
     "end_time": "2021-01-27T16:55:33.706634",
     "exception": false,
     "start_time": "2021-01-27T16:55:32.395217",
     "status": "completed"
    },
    "tags": []
   },
   "outputs": [
    {
     "name": "stdout",
     "output_type": "stream",
     "text": [
      "Accuracy score of test data : 0.8041163946061036\n",
      "Accuracy score of train data : 0.8132765353212638\n"
     ]
    }
   ],
   "source": [
    "from xgboost import XGBClassifier\n",
    "from sklearn import metrics\n",
    "# Parameters tunning\n",
    "xg_gridcv =XGBClassifier(learning_rate = .05, max_depth = 1, n_estimators = 600)\n",
    "\n",
    "xg_gridcv.fit(X_train, y_train)\n",
    "\n",
    "y_pred_xggrid = xg_gridcv.predict(X_test)\n",
    "y_pred_xggrid_train = xg_gridcv.predict(X_train)\n",
    "\n",
    "xg_as_grid = metrics.accuracy_score(y_test, y_pred_xggrid)\n",
    "xg_as_grid_train = metrics.accuracy_score(y_train, y_pred_xggrid_train)\n",
    "\n",
    "print(f\"Accuracy score of test data : {xg_as_grid}\")\n",
    "print(f\"Accuracy score of train data : {xg_as_grid_train}\")"
   ]
  },
  {
   "cell_type": "code",
   "execution_count": 49,
   "metadata": {
    "execution": {
     "iopub.execute_input": "2021-01-27T16:55:34.357191Z",
     "iopub.status.busy": "2021-01-27T16:55:34.356477Z",
     "iopub.status.idle": "2021-01-27T16:55:34.369297Z",
     "shell.execute_reply": "2021-01-27T16:55:34.369835Z"
    },
    "papermill": {
     "duration": 0.342082,
     "end_time": "2021-01-27T16:55:34.370003",
     "exception": false,
     "start_time": "2021-01-27T16:55:34.027921",
     "status": "completed"
    },
    "tags": []
   },
   "outputs": [],
   "source": [
    "sc = StandardScaler()\n",
    "Xtrain_sc = sc.fit_transform(X_train)\n",
    "Xtest_sc = sc.transform(X_test)\n",
    "from xgboost import XGBClassifier"
   ]
  },
  {
   "cell_type": "code",
   "execution_count": 50,
   "metadata": {
    "execution": {
     "iopub.execute_input": "2021-01-27T16:55:35.022059Z",
     "iopub.status.busy": "2021-01-27T16:55:35.021293Z",
     "iopub.status.idle": "2021-01-27T16:55:35.993184Z",
     "shell.execute_reply": "2021-01-27T16:55:35.993859Z"
    },
    "papermill": {
     "duration": 1.300215,
     "end_time": "2021-01-27T16:55:35.994038",
     "exception": false,
     "start_time": "2021-01-27T16:55:34.693823",
     "status": "completed"
    },
    "tags": []
   },
   "outputs": [
    {
     "name": "stdout",
     "output_type": "stream",
     "text": [
      "Accuracy score of test data : 0.8041163946061036\n",
      "Accuracy score of train data : 0.8132765353212638\n"
     ]
    }
   ],
   "source": [
    "# Parameters tunning\n",
    "xg_gridcv =XGBClassifier(learning_rate = .05, max_depth = 1, n_estimators = 600)\n",
    "\n",
    "xg_gridcv.fit(Xtrain_sc, y_train)\n",
    "\n",
    "y_pred_xggrid = xg_gridcv.predict(Xtest_sc)\n",
    "y_pred_xggrid_train = xg_gridcv.predict(Xtrain_sc)\n",
    "\n",
    "xg_as_grid = metrics.accuracy_score(y_test, y_pred_xggrid)\n",
    "xg_as_grid_train = metrics.accuracy_score(y_train, y_pred_xggrid_train)\n",
    "\n",
    "print(f\"Accuracy score of test data : {xg_as_grid}\")\n",
    "print(f\"Accuracy score of train data : {xg_as_grid_train}\")"
   ]
  },
  {
   "cell_type": "code",
   "execution_count": 51,
   "metadata": {
    "execution": {
     "iopub.execute_input": "2021-01-27T16:55:36.654068Z",
     "iopub.status.busy": "2021-01-27T16:55:36.652964Z",
     "iopub.status.idle": "2021-01-27T16:55:36.956655Z",
     "shell.execute_reply": "2021-01-27T16:55:36.957751Z"
    },
    "papermill": {
     "duration": 0.63534,
     "end_time": "2021-01-27T16:55:36.958125",
     "exception": false,
     "start_time": "2021-01-27T16:55:36.322785",
     "status": "completed"
    },
    "tags": []
   },
   "outputs": [
    {
     "name": "stdout",
     "output_type": "stream",
     "text": [
      "Accuracy score of test data : 0.8076650106458482\n",
      "Accuracy score of train data : 0.8230386936457224\n"
     ]
    }
   ],
   "source": [
    "xg_gridcv =XGBClassifier(colsample_bytree= 0.5,\n",
    " learning_rate=0.1,\n",
    " max_depth= 3,\n",
    " min_child_weight=3,\n",
    " n_estimators=100,\n",
    " objective='reg:squarederror',\n",
    " subsample= 0.7)\n",
    "\n",
    "xg_gridcv.fit(Xtrain_sc, y_train)\n",
    "\n",
    "y_pred_xggrid = xg_gridcv.predict(Xtest_sc)\n",
    "y_pred_xggrid_train = xg_gridcv.predict(Xtrain_sc)\n",
    "\n",
    "xg_as_grid = metrics.accuracy_score(y_test, y_pred_xggrid)\n",
    "xg_as_grid_train = metrics.accuracy_score(y_train, y_pred_xggrid_train)\n",
    "\n",
    "print(f\"Accuracy score of test data : {xg_as_grid}\")\n",
    "print(f\"Accuracy score of train data : {xg_as_grid_train}\")"
   ]
  },
  {
   "cell_type": "code",
   "execution_count": 52,
   "metadata": {
    "execution": {
     "iopub.execute_input": "2021-01-27T16:55:37.610757Z",
     "iopub.status.busy": "2021-01-27T16:55:37.610014Z",
     "iopub.status.idle": "2021-01-27T16:55:37.614448Z",
     "shell.execute_reply": "2021-01-27T16:55:37.613897Z"
    },
    "papermill": {
     "duration": 0.331755,
     "end_time": "2021-01-27T16:55:37.614587",
     "exception": false,
     "start_time": "2021-01-27T16:55:37.282832",
     "status": "completed"
    },
    "tags": []
   },
   "outputs": [],
   "source": [
    "def xgb_f1(y, t):\n",
    "    t = t.get_label()\n",
    "    y_bin = [1. if y_cont > 0.5 else 0. for y_cont in y]   # change the prob to class output\n",
    "    return 'f1', accuracy_score(t, y_bin)"
   ]
  },
  {
   "cell_type": "code",
   "execution_count": 53,
   "metadata": {
    "execution": {
     "iopub.execute_input": "2021-01-27T16:55:38.271343Z",
     "iopub.status.busy": "2021-01-27T16:55:38.270307Z",
     "iopub.status.idle": "2021-01-27T16:55:41.573420Z",
     "shell.execute_reply": "2021-01-27T16:55:41.572852Z"
    },
    "papermill": {
     "duration": 3.632234,
     "end_time": "2021-01-27T16:55:41.573572",
     "exception": false,
     "start_time": "2021-01-27T16:55:37.941338",
     "status": "completed"
    },
    "tags": []
   },
   "outputs": [
    {
     "name": "stdout",
     "output_type": "stream",
     "text": [
      "[0]\tvalidation_0-auc:0.72787\tvalidation_1-auc:0.72981\n",
      "[1]\tvalidation_0-auc:0.72787\tvalidation_1-auc:0.72981\n",
      "[2]\tvalidation_0-auc:0.72787\tvalidation_1-auc:0.72981\n",
      "[3]\tvalidation_0-auc:0.72787\tvalidation_1-auc:0.72981\n",
      "[4]\tvalidation_0-auc:0.72787\tvalidation_1-auc:0.72981\n",
      "[5]\tvalidation_0-auc:0.72787\tvalidation_1-auc:0.72981\n",
      "[6]\tvalidation_0-auc:0.72787\tvalidation_1-auc:0.72981\n",
      "[7]\tvalidation_0-auc:0.78296\tvalidation_1-auc:0.77787\n",
      "[8]\tvalidation_0-auc:0.79891\tvalidation_1-auc:0.79092\n",
      "[9]\tvalidation_0-auc:0.79891\tvalidation_1-auc:0.79092\n",
      "[10]\tvalidation_0-auc:0.79891\tvalidation_1-auc:0.79092\n",
      "[11]\tvalidation_0-auc:0.79891\tvalidation_1-auc:0.79092\n",
      "[12]\tvalidation_0-auc:0.79891\tvalidation_1-auc:0.79092\n",
      "[13]\tvalidation_0-auc:0.79891\tvalidation_1-auc:0.79092\n",
      "[14]\tvalidation_0-auc:0.79891\tvalidation_1-auc:0.79092\n",
      "[15]\tvalidation_0-auc:0.79891\tvalidation_1-auc:0.79092\n",
      "[16]\tvalidation_0-auc:0.81171\tvalidation_1-auc:0.80936\n",
      "[17]\tvalidation_0-auc:0.81308\tvalidation_1-auc:0.80961\n",
      "[18]\tvalidation_0-auc:0.81308\tvalidation_1-auc:0.80961\n",
      "[19]\tvalidation_0-auc:0.81171\tvalidation_1-auc:0.80936\n",
      "[20]\tvalidation_0-auc:0.81308\tvalidation_1-auc:0.80961\n",
      "[21]\tvalidation_0-auc:0.82248\tvalidation_1-auc:0.82030\n",
      "[22]\tvalidation_0-auc:0.82248\tvalidation_1-auc:0.82030\n",
      "[23]\tvalidation_0-auc:0.82338\tvalidation_1-auc:0.82069\n",
      "[24]\tvalidation_0-auc:0.82691\tvalidation_1-auc:0.82421\n",
      "[25]\tvalidation_0-auc:0.82965\tvalidation_1-auc:0.82639\n",
      "[26]\tvalidation_0-auc:0.82928\tvalidation_1-auc:0.82524\n",
      "[27]\tvalidation_0-auc:0.82859\tvalidation_1-auc:0.82487\n",
      "[28]\tvalidation_0-auc:0.82859\tvalidation_1-auc:0.82487\n",
      "[29]\tvalidation_0-auc:0.82839\tvalidation_1-auc:0.82551\n",
      "[30]\tvalidation_0-auc:0.82985\tvalidation_1-auc:0.82702\n",
      "[31]\tvalidation_0-auc:0.83276\tvalidation_1-auc:0.82936\n",
      "[32]\tvalidation_0-auc:0.83208\tvalidation_1-auc:0.83000\n",
      "[33]\tvalidation_0-auc:0.83278\tvalidation_1-auc:0.82963\n",
      "[34]\tvalidation_0-auc:0.83278\tvalidation_1-auc:0.82964\n",
      "[35]\tvalidation_0-auc:0.83219\tvalidation_1-auc:0.82805\n",
      "[36]\tvalidation_0-auc:0.83409\tvalidation_1-auc:0.82904\n",
      "[37]\tvalidation_0-auc:0.83353\tvalidation_1-auc:0.82969\n",
      "[38]\tvalidation_0-auc:0.83306\tvalidation_1-auc:0.82944\n",
      "[39]\tvalidation_0-auc:0.83547\tvalidation_1-auc:0.83110\n",
      "[40]\tvalidation_0-auc:0.83584\tvalidation_1-auc:0.83101\n",
      "[41]\tvalidation_0-auc:0.83585\tvalidation_1-auc:0.83102\n",
      "[42]\tvalidation_0-auc:0.83469\tvalidation_1-auc:0.83105\n",
      "[43]\tvalidation_0-auc:0.83645\tvalidation_1-auc:0.83235\n",
      "[44]\tvalidation_0-auc:0.83627\tvalidation_1-auc:0.83196\n",
      "[45]\tvalidation_0-auc:0.83680\tvalidation_1-auc:0.83196\n",
      "[46]\tvalidation_0-auc:0.83709\tvalidation_1-auc:0.83236\n",
      "[47]\tvalidation_0-auc:0.83688\tvalidation_1-auc:0.83223\n",
      "[48]\tvalidation_0-auc:0.83684\tvalidation_1-auc:0.83232\n",
      "[49]\tvalidation_0-auc:0.83711\tvalidation_1-auc:0.83244\n",
      "[50]\tvalidation_0-auc:0.83737\tvalidation_1-auc:0.83229\n",
      "[51]\tvalidation_0-auc:0.83751\tvalidation_1-auc:0.83236\n",
      "[52]\tvalidation_0-auc:0.83759\tvalidation_1-auc:0.83219\n",
      "[53]\tvalidation_0-auc:0.83834\tvalidation_1-auc:0.83292\n",
      "[54]\tvalidation_0-auc:0.83828\tvalidation_1-auc:0.83299\n",
      "[55]\tvalidation_0-auc:0.83850\tvalidation_1-auc:0.83320\n",
      "[56]\tvalidation_0-auc:0.83894\tvalidation_1-auc:0.83391\n",
      "[57]\tvalidation_0-auc:0.83905\tvalidation_1-auc:0.83405\n",
      "[58]\tvalidation_0-auc:0.83905\tvalidation_1-auc:0.83369\n",
      "[59]\tvalidation_0-auc:0.83946\tvalidation_1-auc:0.83412\n",
      "[60]\tvalidation_0-auc:0.83947\tvalidation_1-auc:0.83414\n",
      "[61]\tvalidation_0-auc:0.83955\tvalidation_1-auc:0.83425\n",
      "[62]\tvalidation_0-auc:0.83945\tvalidation_1-auc:0.83395\n",
      "[63]\tvalidation_0-auc:0.83976\tvalidation_1-auc:0.83411\n",
      "[64]\tvalidation_0-auc:0.83983\tvalidation_1-auc:0.83405\n",
      "[65]\tvalidation_0-auc:0.83997\tvalidation_1-auc:0.83409\n",
      "[66]\tvalidation_0-auc:0.84054\tvalidation_1-auc:0.83518\n",
      "[67]\tvalidation_0-auc:0.84039\tvalidation_1-auc:0.83498\n",
      "[68]\tvalidation_0-auc:0.84045\tvalidation_1-auc:0.83502\n",
      "[69]\tvalidation_0-auc:0.84082\tvalidation_1-auc:0.83545\n",
      "[70]\tvalidation_0-auc:0.84094\tvalidation_1-auc:0.83548\n",
      "[71]\tvalidation_0-auc:0.84109\tvalidation_1-auc:0.83562\n",
      "[72]\tvalidation_0-auc:0.84102\tvalidation_1-auc:0.83572\n",
      "[73]\tvalidation_0-auc:0.84095\tvalidation_1-auc:0.83545\n",
      "[74]\tvalidation_0-auc:0.84102\tvalidation_1-auc:0.83547\n",
      "[75]\tvalidation_0-auc:0.84127\tvalidation_1-auc:0.83553\n",
      "[76]\tvalidation_0-auc:0.84187\tvalidation_1-auc:0.83604\n",
      "[77]\tvalidation_0-auc:0.84172\tvalidation_1-auc:0.83592\n",
      "[78]\tvalidation_0-auc:0.84182\tvalidation_1-auc:0.83594\n",
      "[79]\tvalidation_0-auc:0.84189\tvalidation_1-auc:0.83607\n",
      "[80]\tvalidation_0-auc:0.84201\tvalidation_1-auc:0.83620\n",
      "[81]\tvalidation_0-auc:0.84222\tvalidation_1-auc:0.83650\n",
      "[82]\tvalidation_0-auc:0.84235\tvalidation_1-auc:0.83634\n",
      "[83]\tvalidation_0-auc:0.84268\tvalidation_1-auc:0.83649\n",
      "[84]\tvalidation_0-auc:0.84283\tvalidation_1-auc:0.83660\n",
      "[85]\tvalidation_0-auc:0.84290\tvalidation_1-auc:0.83659\n",
      "[86]\tvalidation_0-auc:0.84305\tvalidation_1-auc:0.83681\n",
      "[87]\tvalidation_0-auc:0.84311\tvalidation_1-auc:0.83705\n",
      "[88]\tvalidation_0-auc:0.84345\tvalidation_1-auc:0.83708\n",
      "[89]\tvalidation_0-auc:0.84380\tvalidation_1-auc:0.83728\n",
      "[90]\tvalidation_0-auc:0.84395\tvalidation_1-auc:0.83729\n",
      "[91]\tvalidation_0-auc:0.84393\tvalidation_1-auc:0.83720\n",
      "[92]\tvalidation_0-auc:0.84422\tvalidation_1-auc:0.83756\n",
      "[93]\tvalidation_0-auc:0.84433\tvalidation_1-auc:0.83743\n",
      "[94]\tvalidation_0-auc:0.84457\tvalidation_1-auc:0.83743\n",
      "[95]\tvalidation_0-auc:0.84464\tvalidation_1-auc:0.83745\n",
      "[96]\tvalidation_0-auc:0.84475\tvalidation_1-auc:0.83779\n",
      "[97]\tvalidation_0-auc:0.84475\tvalidation_1-auc:0.83774\n",
      "[98]\tvalidation_0-auc:0.84489\tvalidation_1-auc:0.83774\n",
      "[99]\tvalidation_0-auc:0.84511\tvalidation_1-auc:0.83783\n",
      "[100]\tvalidation_0-auc:0.84517\tvalidation_1-auc:0.83806\n",
      "[101]\tvalidation_0-auc:0.84522\tvalidation_1-auc:0.83817\n",
      "[102]\tvalidation_0-auc:0.84532\tvalidation_1-auc:0.83810\n",
      "[103]\tvalidation_0-auc:0.84536\tvalidation_1-auc:0.83810\n",
      "[104]\tvalidation_0-auc:0.84538\tvalidation_1-auc:0.83821\n",
      "[105]\tvalidation_0-auc:0.84558\tvalidation_1-auc:0.83822\n",
      "[106]\tvalidation_0-auc:0.84572\tvalidation_1-auc:0.83846\n",
      "[107]\tvalidation_0-auc:0.84586\tvalidation_1-auc:0.83843\n",
      "[108]\tvalidation_0-auc:0.84578\tvalidation_1-auc:0.83808\n",
      "[109]\tvalidation_0-auc:0.84582\tvalidation_1-auc:0.83810\n",
      "[110]\tvalidation_0-auc:0.84585\tvalidation_1-auc:0.83808\n",
      "[111]\tvalidation_0-auc:0.84589\tvalidation_1-auc:0.83815\n",
      "[112]\tvalidation_0-auc:0.84604\tvalidation_1-auc:0.83817\n",
      "[113]\tvalidation_0-auc:0.84606\tvalidation_1-auc:0.83806\n",
      "[114]\tvalidation_0-auc:0.84614\tvalidation_1-auc:0.83812\n",
      "[115]\tvalidation_0-auc:0.84625\tvalidation_1-auc:0.83838\n",
      "[116]\tvalidation_0-auc:0.84641\tvalidation_1-auc:0.83849\n",
      "[117]\tvalidation_0-auc:0.84645\tvalidation_1-auc:0.83849\n",
      "[118]\tvalidation_0-auc:0.84648\tvalidation_1-auc:0.83861\n",
      "[119]\tvalidation_0-auc:0.84653\tvalidation_1-auc:0.83850\n",
      "[120]\tvalidation_0-auc:0.84656\tvalidation_1-auc:0.83863\n",
      "[121]\tvalidation_0-auc:0.84668\tvalidation_1-auc:0.83862\n",
      "[122]\tvalidation_0-auc:0.84676\tvalidation_1-auc:0.83871\n",
      "[123]\tvalidation_0-auc:0.84686\tvalidation_1-auc:0.83840\n",
      "[124]\tvalidation_0-auc:0.84689\tvalidation_1-auc:0.83889\n",
      "[125]\tvalidation_0-auc:0.84706\tvalidation_1-auc:0.83929\n",
      "[126]\tvalidation_0-auc:0.84713\tvalidation_1-auc:0.83936\n",
      "[127]\tvalidation_0-auc:0.84723\tvalidation_1-auc:0.83936\n",
      "[128]\tvalidation_0-auc:0.84727\tvalidation_1-auc:0.83943\n",
      "[129]\tvalidation_0-auc:0.84737\tvalidation_1-auc:0.83966\n",
      "[130]\tvalidation_0-auc:0.84743\tvalidation_1-auc:0.83956\n",
      "[131]\tvalidation_0-auc:0.84745\tvalidation_1-auc:0.83964\n",
      "[132]\tvalidation_0-auc:0.84759\tvalidation_1-auc:0.83975\n",
      "[133]\tvalidation_0-auc:0.84767\tvalidation_1-auc:0.83988\n",
      "[134]\tvalidation_0-auc:0.84790\tvalidation_1-auc:0.84008\n",
      "[135]\tvalidation_0-auc:0.84790\tvalidation_1-auc:0.84016\n",
      "[136]\tvalidation_0-auc:0.84804\tvalidation_1-auc:0.84000\n",
      "[137]\tvalidation_0-auc:0.84802\tvalidation_1-auc:0.83982\n",
      "[138]\tvalidation_0-auc:0.84803\tvalidation_1-auc:0.83997\n",
      "[139]\tvalidation_0-auc:0.84813\tvalidation_1-auc:0.83992\n",
      "[140]\tvalidation_0-auc:0.84813\tvalidation_1-auc:0.83980\n",
      "[141]\tvalidation_0-auc:0.84832\tvalidation_1-auc:0.84005\n",
      "[142]\tvalidation_0-auc:0.84835\tvalidation_1-auc:0.84013\n",
      "[143]\tvalidation_0-auc:0.84854\tvalidation_1-auc:0.84034\n",
      "[144]\tvalidation_0-auc:0.84851\tvalidation_1-auc:0.84034\n",
      "[145]\tvalidation_0-auc:0.84862\tvalidation_1-auc:0.84035\n",
      "[146]\tvalidation_0-auc:0.84866\tvalidation_1-auc:0.84048\n",
      "[147]\tvalidation_0-auc:0.84873\tvalidation_1-auc:0.84055\n",
      "[148]\tvalidation_0-auc:0.84894\tvalidation_1-auc:0.84078\n",
      "[149]\tvalidation_0-auc:0.84901\tvalidation_1-auc:0.84072\n",
      "[150]\tvalidation_0-auc:0.84906\tvalidation_1-auc:0.84073\n",
      "[151]\tvalidation_0-auc:0.84920\tvalidation_1-auc:0.84107\n",
      "[152]\tvalidation_0-auc:0.84923\tvalidation_1-auc:0.84114\n",
      "[153]\tvalidation_0-auc:0.84933\tvalidation_1-auc:0.84111\n",
      "[154]\tvalidation_0-auc:0.84941\tvalidation_1-auc:0.84115\n",
      "[155]\tvalidation_0-auc:0.84953\tvalidation_1-auc:0.84144\n",
      "[156]\tvalidation_0-auc:0.84955\tvalidation_1-auc:0.84141\n",
      "[157]\tvalidation_0-auc:0.84965\tvalidation_1-auc:0.84146\n",
      "[158]\tvalidation_0-auc:0.84971\tvalidation_1-auc:0.84136\n",
      "[159]\tvalidation_0-auc:0.84979\tvalidation_1-auc:0.84152\n",
      "[160]\tvalidation_0-auc:0.84982\tvalidation_1-auc:0.84169\n",
      "[161]\tvalidation_0-auc:0.84987\tvalidation_1-auc:0.84156\n",
      "[162]\tvalidation_0-auc:0.84994\tvalidation_1-auc:0.84159\n",
      "[163]\tvalidation_0-auc:0.84991\tvalidation_1-auc:0.84159\n",
      "[164]\tvalidation_0-auc:0.84996\tvalidation_1-auc:0.84166\n",
      "[165]\tvalidation_0-auc:0.85007\tvalidation_1-auc:0.84185\n",
      "[166]\tvalidation_0-auc:0.85014\tvalidation_1-auc:0.84189\n",
      "[167]\tvalidation_0-auc:0.85029\tvalidation_1-auc:0.84208\n",
      "[168]\tvalidation_0-auc:0.85036\tvalidation_1-auc:0.84204\n",
      "[169]\tvalidation_0-auc:0.85038\tvalidation_1-auc:0.84218\n",
      "[170]\tvalidation_0-auc:0.85040\tvalidation_1-auc:0.84219\n",
      "[171]\tvalidation_0-auc:0.85049\tvalidation_1-auc:0.84235\n",
      "[172]\tvalidation_0-auc:0.85053\tvalidation_1-auc:0.84227\n",
      "[173]\tvalidation_0-auc:0.85060\tvalidation_1-auc:0.84225\n",
      "[174]\tvalidation_0-auc:0.85069\tvalidation_1-auc:0.84246\n",
      "[175]\tvalidation_0-auc:0.85069\tvalidation_1-auc:0.84239\n",
      "[176]\tvalidation_0-auc:0.85068\tvalidation_1-auc:0.84233\n",
      "[177]\tvalidation_0-auc:0.85081\tvalidation_1-auc:0.84252\n",
      "[178]\tvalidation_0-auc:0.85089\tvalidation_1-auc:0.84258\n",
      "[179]\tvalidation_0-auc:0.85091\tvalidation_1-auc:0.84260\n",
      "[180]\tvalidation_0-auc:0.85095\tvalidation_1-auc:0.84270\n",
      "[181]\tvalidation_0-auc:0.85097\tvalidation_1-auc:0.84262\n",
      "[182]\tvalidation_0-auc:0.85103\tvalidation_1-auc:0.84266\n",
      "[183]\tvalidation_0-auc:0.85111\tvalidation_1-auc:0.84256\n",
      "[184]\tvalidation_0-auc:0.85106\tvalidation_1-auc:0.84273\n",
      "[185]\tvalidation_0-auc:0.85116\tvalidation_1-auc:0.84283\n",
      "[186]\tvalidation_0-auc:0.85127\tvalidation_1-auc:0.84294\n",
      "[187]\tvalidation_0-auc:0.85126\tvalidation_1-auc:0.84291\n",
      "[188]\tvalidation_0-auc:0.85134\tvalidation_1-auc:0.84296\n",
      "[189]\tvalidation_0-auc:0.85145\tvalidation_1-auc:0.84307\n",
      "[190]\tvalidation_0-auc:0.85147\tvalidation_1-auc:0.84317\n",
      "[191]\tvalidation_0-auc:0.85158\tvalidation_1-auc:0.84322\n",
      "[192]\tvalidation_0-auc:0.85160\tvalidation_1-auc:0.84322\n",
      "[193]\tvalidation_0-auc:0.85170\tvalidation_1-auc:0.84328\n",
      "[194]\tvalidation_0-auc:0.85171\tvalidation_1-auc:0.84339\n",
      "[195]\tvalidation_0-auc:0.85181\tvalidation_1-auc:0.84355\n",
      "[196]\tvalidation_0-auc:0.85186\tvalidation_1-auc:0.84358\n",
      "[197]\tvalidation_0-auc:0.85194\tvalidation_1-auc:0.84364\n",
      "[198]\tvalidation_0-auc:0.85198\tvalidation_1-auc:0.84376\n",
      "[199]\tvalidation_0-auc:0.85199\tvalidation_1-auc:0.84375\n",
      "[200]\tvalidation_0-auc:0.85204\tvalidation_1-auc:0.84374\n",
      "[201]\tvalidation_0-auc:0.85213\tvalidation_1-auc:0.84384\n",
      "[202]\tvalidation_0-auc:0.85216\tvalidation_1-auc:0.84384\n",
      "[203]\tvalidation_0-auc:0.85216\tvalidation_1-auc:0.84388\n",
      "[204]\tvalidation_0-auc:0.85220\tvalidation_1-auc:0.84394\n",
      "[205]\tvalidation_0-auc:0.85221\tvalidation_1-auc:0.84402\n",
      "[206]\tvalidation_0-auc:0.85227\tvalidation_1-auc:0.84400\n",
      "[207]\tvalidation_0-auc:0.85229\tvalidation_1-auc:0.84396\n",
      "[208]\tvalidation_0-auc:0.85237\tvalidation_1-auc:0.84409\n",
      "[209]\tvalidation_0-auc:0.85237\tvalidation_1-auc:0.84397\n",
      "[210]\tvalidation_0-auc:0.85249\tvalidation_1-auc:0.84417\n",
      "[211]\tvalidation_0-auc:0.85252\tvalidation_1-auc:0.84426\n",
      "[212]\tvalidation_0-auc:0.85248\tvalidation_1-auc:0.84425\n",
      "[213]\tvalidation_0-auc:0.85257\tvalidation_1-auc:0.84429\n",
      "[214]\tvalidation_0-auc:0.85263\tvalidation_1-auc:0.84429\n",
      "[215]\tvalidation_0-auc:0.85267\tvalidation_1-auc:0.84444\n",
      "[216]\tvalidation_0-auc:0.85266\tvalidation_1-auc:0.84458\n",
      "[217]\tvalidation_0-auc:0.85268\tvalidation_1-auc:0.84451\n",
      "[218]\tvalidation_0-auc:0.85269\tvalidation_1-auc:0.84451\n",
      "[219]\tvalidation_0-auc:0.85276\tvalidation_1-auc:0.84463\n",
      "[220]\tvalidation_0-auc:0.85278\tvalidation_1-auc:0.84464\n",
      "[221]\tvalidation_0-auc:0.85287\tvalidation_1-auc:0.84474\n",
      "[222]\tvalidation_0-auc:0.85287\tvalidation_1-auc:0.84473\n",
      "[223]\tvalidation_0-auc:0.85293\tvalidation_1-auc:0.84475\n",
      "[224]\tvalidation_0-auc:0.85291\tvalidation_1-auc:0.84478\n",
      "[225]\tvalidation_0-auc:0.85299\tvalidation_1-auc:0.84481\n",
      "[226]\tvalidation_0-auc:0.85305\tvalidation_1-auc:0.84479\n",
      "[227]\tvalidation_0-auc:0.85302\tvalidation_1-auc:0.84477\n",
      "[228]\tvalidation_0-auc:0.85310\tvalidation_1-auc:0.84495\n",
      "[229]\tvalidation_0-auc:0.85314\tvalidation_1-auc:0.84501\n",
      "[230]\tvalidation_0-auc:0.85317\tvalidation_1-auc:0.84498\n",
      "[231]\tvalidation_0-auc:0.85322\tvalidation_1-auc:0.84509\n",
      "[232]\tvalidation_0-auc:0.85326\tvalidation_1-auc:0.84522\n",
      "[233]\tvalidation_0-auc:0.85328\tvalidation_1-auc:0.84520\n",
      "[234]\tvalidation_0-auc:0.85330\tvalidation_1-auc:0.84518\n",
      "[235]\tvalidation_0-auc:0.85334\tvalidation_1-auc:0.84523\n",
      "[236]\tvalidation_0-auc:0.85337\tvalidation_1-auc:0.84518\n",
      "[237]\tvalidation_0-auc:0.85342\tvalidation_1-auc:0.84517\n",
      "[238]\tvalidation_0-auc:0.85348\tvalidation_1-auc:0.84528\n",
      "[239]\tvalidation_0-auc:0.85351\tvalidation_1-auc:0.84539\n",
      "[240]\tvalidation_0-auc:0.85352\tvalidation_1-auc:0.84537\n",
      "[241]\tvalidation_0-auc:0.85357\tvalidation_1-auc:0.84552\n",
      "[242]\tvalidation_0-auc:0.85359\tvalidation_1-auc:0.84555\n",
      "[243]\tvalidation_0-auc:0.85357\tvalidation_1-auc:0.84552\n",
      "[244]\tvalidation_0-auc:0.85359\tvalidation_1-auc:0.84550\n",
      "[245]\tvalidation_0-auc:0.85362\tvalidation_1-auc:0.84554\n",
      "[246]\tvalidation_0-auc:0.85365\tvalidation_1-auc:0.84544\n",
      "[247]\tvalidation_0-auc:0.85371\tvalidation_1-auc:0.84551\n",
      "[248]\tvalidation_0-auc:0.85373\tvalidation_1-auc:0.84553\n",
      "[249]\tvalidation_0-auc:0.85374\tvalidation_1-auc:0.84571\n",
      "[250]\tvalidation_0-auc:0.85375\tvalidation_1-auc:0.84572\n",
      "[251]\tvalidation_0-auc:0.85379\tvalidation_1-auc:0.84583\n",
      "[252]\tvalidation_0-auc:0.85383\tvalidation_1-auc:0.84572\n",
      "[253]\tvalidation_0-auc:0.85386\tvalidation_1-auc:0.84583\n",
      "[254]\tvalidation_0-auc:0.85390\tvalidation_1-auc:0.84595\n",
      "[255]\tvalidation_0-auc:0.85390\tvalidation_1-auc:0.84597\n",
      "[256]\tvalidation_0-auc:0.85392\tvalidation_1-auc:0.84598\n",
      "[257]\tvalidation_0-auc:0.85394\tvalidation_1-auc:0.84596\n",
      "[258]\tvalidation_0-auc:0.85392\tvalidation_1-auc:0.84579\n",
      "[259]\tvalidation_0-auc:0.85395\tvalidation_1-auc:0.84589\n",
      "[260]\tvalidation_0-auc:0.85395\tvalidation_1-auc:0.84601\n",
      "[261]\tvalidation_0-auc:0.85399\tvalidation_1-auc:0.84591\n",
      "[262]\tvalidation_0-auc:0.85401\tvalidation_1-auc:0.84608\n",
      "[263]\tvalidation_0-auc:0.85404\tvalidation_1-auc:0.84607\n",
      "[264]\tvalidation_0-auc:0.85406\tvalidation_1-auc:0.84607\n",
      "[265]\tvalidation_0-auc:0.85410\tvalidation_1-auc:0.84601\n",
      "[266]\tvalidation_0-auc:0.85413\tvalidation_1-auc:0.84603\n",
      "[267]\tvalidation_0-auc:0.85415\tvalidation_1-auc:0.84604\n",
      "[268]\tvalidation_0-auc:0.85417\tvalidation_1-auc:0.84603\n",
      "[269]\tvalidation_0-auc:0.85421\tvalidation_1-auc:0.84606\n",
      "[270]\tvalidation_0-auc:0.85423\tvalidation_1-auc:0.84603\n",
      "[271]\tvalidation_0-auc:0.85425\tvalidation_1-auc:0.84619\n",
      "[272]\tvalidation_0-auc:0.85431\tvalidation_1-auc:0.84624\n",
      "[273]\tvalidation_0-auc:0.85430\tvalidation_1-auc:0.84629\n",
      "[274]\tvalidation_0-auc:0.85431\tvalidation_1-auc:0.84639\n",
      "[275]\tvalidation_0-auc:0.85432\tvalidation_1-auc:0.84644\n",
      "[276]\tvalidation_0-auc:0.85434\tvalidation_1-auc:0.84644\n",
      "[277]\tvalidation_0-auc:0.85436\tvalidation_1-auc:0.84641\n",
      "[278]\tvalidation_0-auc:0.85437\tvalidation_1-auc:0.84645\n",
      "[279]\tvalidation_0-auc:0.85439\tvalidation_1-auc:0.84641\n",
      "[280]\tvalidation_0-auc:0.85445\tvalidation_1-auc:0.84648\n",
      "[281]\tvalidation_0-auc:0.85445\tvalidation_1-auc:0.84651\n",
      "[282]\tvalidation_0-auc:0.85445\tvalidation_1-auc:0.84653\n",
      "[283]\tvalidation_0-auc:0.85450\tvalidation_1-auc:0.84653\n",
      "[284]\tvalidation_0-auc:0.85451\tvalidation_1-auc:0.84648\n",
      "[285]\tvalidation_0-auc:0.85455\tvalidation_1-auc:0.84652\n",
      "[286]\tvalidation_0-auc:0.85458\tvalidation_1-auc:0.84655\n",
      "[287]\tvalidation_0-auc:0.85459\tvalidation_1-auc:0.84656\n",
      "[288]\tvalidation_0-auc:0.85459\tvalidation_1-auc:0.84665\n",
      "[289]\tvalidation_0-auc:0.85461\tvalidation_1-auc:0.84671\n",
      "[290]\tvalidation_0-auc:0.85461\tvalidation_1-auc:0.84664\n",
      "[291]\tvalidation_0-auc:0.85464\tvalidation_1-auc:0.84671\n",
      "[292]\tvalidation_0-auc:0.85464\tvalidation_1-auc:0.84669\n",
      "[293]\tvalidation_0-auc:0.85465\tvalidation_1-auc:0.84674\n",
      "[294]\tvalidation_0-auc:0.85470\tvalidation_1-auc:0.84681\n",
      "[295]\tvalidation_0-auc:0.85474\tvalidation_1-auc:0.84676\n",
      "[296]\tvalidation_0-auc:0.85475\tvalidation_1-auc:0.84674\n",
      "[297]\tvalidation_0-auc:0.85476\tvalidation_1-auc:0.84675\n",
      "[298]\tvalidation_0-auc:0.85480\tvalidation_1-auc:0.84686\n",
      "[299]\tvalidation_0-auc:0.85481\tvalidation_1-auc:0.84690\n",
      "[300]\tvalidation_0-auc:0.85479\tvalidation_1-auc:0.84686\n",
      "[301]\tvalidation_0-auc:0.85481\tvalidation_1-auc:0.84688\n",
      "[302]\tvalidation_0-auc:0.85482\tvalidation_1-auc:0.84691\n",
      "[303]\tvalidation_0-auc:0.85482\tvalidation_1-auc:0.84689\n",
      "[304]\tvalidation_0-auc:0.85484\tvalidation_1-auc:0.84691\n",
      "[305]\tvalidation_0-auc:0.85486\tvalidation_1-auc:0.84693\n",
      "[306]\tvalidation_0-auc:0.85489\tvalidation_1-auc:0.84697\n",
      "[307]\tvalidation_0-auc:0.85493\tvalidation_1-auc:0.84705\n",
      "[308]\tvalidation_0-auc:0.85494\tvalidation_1-auc:0.84701\n",
      "[309]\tvalidation_0-auc:0.85495\tvalidation_1-auc:0.84698\n",
      "[310]\tvalidation_0-auc:0.85499\tvalidation_1-auc:0.84703\n",
      "[311]\tvalidation_0-auc:0.85499\tvalidation_1-auc:0.84706\n",
      "[312]\tvalidation_0-auc:0.85505\tvalidation_1-auc:0.84702\n",
      "[313]\tvalidation_0-auc:0.85506\tvalidation_1-auc:0.84703\n",
      "[314]\tvalidation_0-auc:0.85506\tvalidation_1-auc:0.84706\n",
      "[315]\tvalidation_0-auc:0.85511\tvalidation_1-auc:0.84716\n",
      "[316]\tvalidation_0-auc:0.85509\tvalidation_1-auc:0.84707\n",
      "[317]\tvalidation_0-auc:0.85509\tvalidation_1-auc:0.84706\n",
      "[318]\tvalidation_0-auc:0.85512\tvalidation_1-auc:0.84700\n",
      "[319]\tvalidation_0-auc:0.85516\tvalidation_1-auc:0.84701\n",
      "[320]\tvalidation_0-auc:0.85517\tvalidation_1-auc:0.84699\n",
      "[321]\tvalidation_0-auc:0.85520\tvalidation_1-auc:0.84710\n",
      "[322]\tvalidation_0-auc:0.85519\tvalidation_1-auc:0.84709\n",
      "[323]\tvalidation_0-auc:0.85522\tvalidation_1-auc:0.84714\n",
      "[324]\tvalidation_0-auc:0.85524\tvalidation_1-auc:0.84711\n",
      "[325]\tvalidation_0-auc:0.85525\tvalidation_1-auc:0.84713\n",
      "[326]\tvalidation_0-auc:0.85524\tvalidation_1-auc:0.84706\n",
      "[327]\tvalidation_0-auc:0.85524\tvalidation_1-auc:0.84705\n",
      "[328]\tvalidation_0-auc:0.85527\tvalidation_1-auc:0.84710\n",
      "[329]\tvalidation_0-auc:0.85530\tvalidation_1-auc:0.84711\n",
      "[330]\tvalidation_0-auc:0.85531\tvalidation_1-auc:0.84718\n",
      "[331]\tvalidation_0-auc:0.85533\tvalidation_1-auc:0.84717\n",
      "[332]\tvalidation_0-auc:0.85534\tvalidation_1-auc:0.84714\n",
      "[333]\tvalidation_0-auc:0.85539\tvalidation_1-auc:0.84717\n",
      "[334]\tvalidation_0-auc:0.85542\tvalidation_1-auc:0.84724\n",
      "[335]\tvalidation_0-auc:0.85547\tvalidation_1-auc:0.84720\n",
      "[336]\tvalidation_0-auc:0.85546\tvalidation_1-auc:0.84723\n",
      "[337]\tvalidation_0-auc:0.85547\tvalidation_1-auc:0.84730\n",
      "[338]\tvalidation_0-auc:0.85546\tvalidation_1-auc:0.84727\n",
      "[339]\tvalidation_0-auc:0.85548\tvalidation_1-auc:0.84731\n",
      "[340]\tvalidation_0-auc:0.85549\tvalidation_1-auc:0.84736\n",
      "[341]\tvalidation_0-auc:0.85547\tvalidation_1-auc:0.84730\n",
      "[342]\tvalidation_0-auc:0.85551\tvalidation_1-auc:0.84728\n",
      "[343]\tvalidation_0-auc:0.85552\tvalidation_1-auc:0.84736\n",
      "[344]\tvalidation_0-auc:0.85551\tvalidation_1-auc:0.84736\n",
      "[345]\tvalidation_0-auc:0.85554\tvalidation_1-auc:0.84733\n",
      "[346]\tvalidation_0-auc:0.85555\tvalidation_1-auc:0.84732\n",
      "[347]\tvalidation_0-auc:0.85558\tvalidation_1-auc:0.84739\n",
      "[348]\tvalidation_0-auc:0.85558\tvalidation_1-auc:0.84745\n",
      "[349]\tvalidation_0-auc:0.85559\tvalidation_1-auc:0.84740\n",
      "[350]\tvalidation_0-auc:0.85562\tvalidation_1-auc:0.84739\n",
      "[351]\tvalidation_0-auc:0.85564\tvalidation_1-auc:0.84740\n",
      "[352]\tvalidation_0-auc:0.85565\tvalidation_1-auc:0.84748\n",
      "[353]\tvalidation_0-auc:0.85564\tvalidation_1-auc:0.84750\n",
      "[354]\tvalidation_0-auc:0.85570\tvalidation_1-auc:0.84751\n",
      "[355]\tvalidation_0-auc:0.85570\tvalidation_1-auc:0.84749\n",
      "[356]\tvalidation_0-auc:0.85569\tvalidation_1-auc:0.84752\n",
      "[357]\tvalidation_0-auc:0.85571\tvalidation_1-auc:0.84751\n",
      "[358]\tvalidation_0-auc:0.85573\tvalidation_1-auc:0.84747\n",
      "[359]\tvalidation_0-auc:0.85575\tvalidation_1-auc:0.84752\n",
      "[360]\tvalidation_0-auc:0.85576\tvalidation_1-auc:0.84750\n",
      "[361]\tvalidation_0-auc:0.85578\tvalidation_1-auc:0.84753\n",
      "[362]\tvalidation_0-auc:0.85576\tvalidation_1-auc:0.84746\n",
      "[363]\tvalidation_0-auc:0.85579\tvalidation_1-auc:0.84754\n",
      "[364]\tvalidation_0-auc:0.85579\tvalidation_1-auc:0.84755\n",
      "[365]\tvalidation_0-auc:0.85578\tvalidation_1-auc:0.84758\n",
      "[366]\tvalidation_0-auc:0.85581\tvalidation_1-auc:0.84757\n",
      "[367]\tvalidation_0-auc:0.85585\tvalidation_1-auc:0.84757\n",
      "[368]\tvalidation_0-auc:0.85589\tvalidation_1-auc:0.84757\n",
      "[369]\tvalidation_0-auc:0.85591\tvalidation_1-auc:0.84761\n",
      "[370]\tvalidation_0-auc:0.85592\tvalidation_1-auc:0.84761\n",
      "[371]\tvalidation_0-auc:0.85593\tvalidation_1-auc:0.84759\n",
      "[372]\tvalidation_0-auc:0.85593\tvalidation_1-auc:0.84763\n",
      "[373]\tvalidation_0-auc:0.85595\tvalidation_1-auc:0.84759\n",
      "[374]\tvalidation_0-auc:0.85595\tvalidation_1-auc:0.84759\n",
      "[375]\tvalidation_0-auc:0.85598\tvalidation_1-auc:0.84761\n",
      "[376]\tvalidation_0-auc:0.85598\tvalidation_1-auc:0.84764\n",
      "[377]\tvalidation_0-auc:0.85600\tvalidation_1-auc:0.84772\n",
      "[378]\tvalidation_0-auc:0.85601\tvalidation_1-auc:0.84775\n",
      "[379]\tvalidation_0-auc:0.85603\tvalidation_1-auc:0.84776\n",
      "[380]\tvalidation_0-auc:0.85603\tvalidation_1-auc:0.84779\n",
      "[381]\tvalidation_0-auc:0.85604\tvalidation_1-auc:0.84766\n",
      "[382]\tvalidation_0-auc:0.85606\tvalidation_1-auc:0.84762\n",
      "[383]\tvalidation_0-auc:0.85610\tvalidation_1-auc:0.84762\n",
      "[384]\tvalidation_0-auc:0.85613\tvalidation_1-auc:0.84765\n",
      "[385]\tvalidation_0-auc:0.85614\tvalidation_1-auc:0.84763\n",
      "[386]\tvalidation_0-auc:0.85616\tvalidation_1-auc:0.84766\n",
      "[387]\tvalidation_0-auc:0.85615\tvalidation_1-auc:0.84767\n",
      "[388]\tvalidation_0-auc:0.85617\tvalidation_1-auc:0.84768\n",
      "[389]\tvalidation_0-auc:0.85617\tvalidation_1-auc:0.84769\n",
      "[390]\tvalidation_0-auc:0.85616\tvalidation_1-auc:0.84770\n",
      "[391]\tvalidation_0-auc:0.85618\tvalidation_1-auc:0.84772\n",
      "[392]\tvalidation_0-auc:0.85619\tvalidation_1-auc:0.84767\n",
      "[393]\tvalidation_0-auc:0.85625\tvalidation_1-auc:0.84769\n",
      "[394]\tvalidation_0-auc:0.85623\tvalidation_1-auc:0.84765\n",
      "[395]\tvalidation_0-auc:0.85627\tvalidation_1-auc:0.84768\n",
      "[396]\tvalidation_0-auc:0.85629\tvalidation_1-auc:0.84774\n",
      "[397]\tvalidation_0-auc:0.85629\tvalidation_1-auc:0.84773\n",
      "[398]\tvalidation_0-auc:0.85631\tvalidation_1-auc:0.84770\n",
      "[399]\tvalidation_0-auc:0.85633\tvalidation_1-auc:0.84771\n",
      "[400]\tvalidation_0-auc:0.85633\tvalidation_1-auc:0.84767\n",
      "[401]\tvalidation_0-auc:0.85633\tvalidation_1-auc:0.84765\n",
      "[402]\tvalidation_0-auc:0.85632\tvalidation_1-auc:0.84771\n",
      "[403]\tvalidation_0-auc:0.85634\tvalidation_1-auc:0.84769\n",
      "[404]\tvalidation_0-auc:0.85633\tvalidation_1-auc:0.84774\n",
      "[405]\tvalidation_0-auc:0.85637\tvalidation_1-auc:0.84776\n",
      "[406]\tvalidation_0-auc:0.85639\tvalidation_1-auc:0.84774\n",
      "[407]\tvalidation_0-auc:0.85640\tvalidation_1-auc:0.84779\n",
      "[408]\tvalidation_0-auc:0.85640\tvalidation_1-auc:0.84776\n",
      "[409]\tvalidation_0-auc:0.85642\tvalidation_1-auc:0.84780\n",
      "[410]\tvalidation_0-auc:0.85641\tvalidation_1-auc:0.84781\n",
      "[411]\tvalidation_0-auc:0.85643\tvalidation_1-auc:0.84782\n",
      "[412]\tvalidation_0-auc:0.85647\tvalidation_1-auc:0.84785\n",
      "[413]\tvalidation_0-auc:0.85647\tvalidation_1-auc:0.84786\n",
      "[414]\tvalidation_0-auc:0.85647\tvalidation_1-auc:0.84784\n",
      "[415]\tvalidation_0-auc:0.85647\tvalidation_1-auc:0.84783\n",
      "[416]\tvalidation_0-auc:0.85649\tvalidation_1-auc:0.84782\n",
      "[417]\tvalidation_0-auc:0.85649\tvalidation_1-auc:0.84780\n",
      "[418]\tvalidation_0-auc:0.85649\tvalidation_1-auc:0.84778\n",
      "[419]\tvalidation_0-auc:0.85650\tvalidation_1-auc:0.84785\n",
      "[420]\tvalidation_0-auc:0.85652\tvalidation_1-auc:0.84781\n",
      "[421]\tvalidation_0-auc:0.85651\tvalidation_1-auc:0.84783\n",
      "[422]\tvalidation_0-auc:0.85650\tvalidation_1-auc:0.84789\n",
      "[423]\tvalidation_0-auc:0.85651\tvalidation_1-auc:0.84792\n",
      "[424]\tvalidation_0-auc:0.85652\tvalidation_1-auc:0.84792\n",
      "[425]\tvalidation_0-auc:0.85653\tvalidation_1-auc:0.84790\n",
      "[426]\tvalidation_0-auc:0.85655\tvalidation_1-auc:0.84788\n",
      "[427]\tvalidation_0-auc:0.85657\tvalidation_1-auc:0.84788\n",
      "[428]\tvalidation_0-auc:0.85661\tvalidation_1-auc:0.84794\n",
      "[429]\tvalidation_0-auc:0.85660\tvalidation_1-auc:0.84793\n",
      "[430]\tvalidation_0-auc:0.85660\tvalidation_1-auc:0.84786\n",
      "[431]\tvalidation_0-auc:0.85660\tvalidation_1-auc:0.84788\n",
      "[432]\tvalidation_0-auc:0.85662\tvalidation_1-auc:0.84793\n",
      "[433]\tvalidation_0-auc:0.85662\tvalidation_1-auc:0.84795\n",
      "[434]\tvalidation_0-auc:0.85666\tvalidation_1-auc:0.84799\n",
      "[435]\tvalidation_0-auc:0.85666\tvalidation_1-auc:0.84799\n",
      "[436]\tvalidation_0-auc:0.85668\tvalidation_1-auc:0.84795\n",
      "[437]\tvalidation_0-auc:0.85669\tvalidation_1-auc:0.84800\n",
      "[438]\tvalidation_0-auc:0.85670\tvalidation_1-auc:0.84800\n",
      "[439]\tvalidation_0-auc:0.85672\tvalidation_1-auc:0.84797\n",
      "[440]\tvalidation_0-auc:0.85672\tvalidation_1-auc:0.84799\n",
      "[441]\tvalidation_0-auc:0.85671\tvalidation_1-auc:0.84795\n",
      "[442]\tvalidation_0-auc:0.85672\tvalidation_1-auc:0.84791\n",
      "[443]\tvalidation_0-auc:0.85670\tvalidation_1-auc:0.84792\n",
      "[444]\tvalidation_0-auc:0.85675\tvalidation_1-auc:0.84797\n",
      "[445]\tvalidation_0-auc:0.85676\tvalidation_1-auc:0.84794\n",
      "[446]\tvalidation_0-auc:0.85679\tvalidation_1-auc:0.84800\n",
      "[447]\tvalidation_0-auc:0.85680\tvalidation_1-auc:0.84800\n",
      "[448]\tvalidation_0-auc:0.85681\tvalidation_1-auc:0.84803\n",
      "[449]\tvalidation_0-auc:0.85680\tvalidation_1-auc:0.84804\n",
      "[450]\tvalidation_0-auc:0.85682\tvalidation_1-auc:0.84807\n",
      "[451]\tvalidation_0-auc:0.85682\tvalidation_1-auc:0.84808\n",
      "[452]\tvalidation_0-auc:0.85684\tvalidation_1-auc:0.84806\n",
      "[453]\tvalidation_0-auc:0.85683\tvalidation_1-auc:0.84802\n",
      "[454]\tvalidation_0-auc:0.85684\tvalidation_1-auc:0.84801\n",
      "[455]\tvalidation_0-auc:0.85685\tvalidation_1-auc:0.84795\n",
      "[456]\tvalidation_0-auc:0.85688\tvalidation_1-auc:0.84798\n",
      "[457]\tvalidation_0-auc:0.85687\tvalidation_1-auc:0.84798\n",
      "[458]\tvalidation_0-auc:0.85688\tvalidation_1-auc:0.84798\n",
      "[459]\tvalidation_0-auc:0.85690\tvalidation_1-auc:0.84796\n",
      "[460]\tvalidation_0-auc:0.85691\tvalidation_1-auc:0.84793\n",
      "[461]\tvalidation_0-auc:0.85690\tvalidation_1-auc:0.84793\n",
      "[462]\tvalidation_0-auc:0.85694\tvalidation_1-auc:0.84799\n",
      "[463]\tvalidation_0-auc:0.85696\tvalidation_1-auc:0.84802\n",
      "[464]\tvalidation_0-auc:0.85698\tvalidation_1-auc:0.84796\n",
      "[465]\tvalidation_0-auc:0.85700\tvalidation_1-auc:0.84792\n",
      "[466]\tvalidation_0-auc:0.85698\tvalidation_1-auc:0.84792\n",
      "[467]\tvalidation_0-auc:0.85699\tvalidation_1-auc:0.84797\n",
      "[468]\tvalidation_0-auc:0.85699\tvalidation_1-auc:0.84795\n",
      "[469]\tvalidation_0-auc:0.85699\tvalidation_1-auc:0.84794\n",
      "[470]\tvalidation_0-auc:0.85701\tvalidation_1-auc:0.84792\n",
      "[471]\tvalidation_0-auc:0.85701\tvalidation_1-auc:0.84799\n",
      "[472]\tvalidation_0-auc:0.85703\tvalidation_1-auc:0.84802\n",
      "[473]\tvalidation_0-auc:0.85704\tvalidation_1-auc:0.84802\n",
      "[474]\tvalidation_0-auc:0.85705\tvalidation_1-auc:0.84799\n",
      "[475]\tvalidation_0-auc:0.85706\tvalidation_1-auc:0.84799\n",
      "[476]\tvalidation_0-auc:0.85707\tvalidation_1-auc:0.84804\n",
      "[477]\tvalidation_0-auc:0.85710\tvalidation_1-auc:0.84802\n",
      "[478]\tvalidation_0-auc:0.85711\tvalidation_1-auc:0.84801\n",
      "[479]\tvalidation_0-auc:0.85710\tvalidation_1-auc:0.84802\n",
      "[480]\tvalidation_0-auc:0.85711\tvalidation_1-auc:0.84798\n",
      "[481]\tvalidation_0-auc:0.85715\tvalidation_1-auc:0.84799\n",
      "[482]\tvalidation_0-auc:0.85713\tvalidation_1-auc:0.84797\n",
      "[483]\tvalidation_0-auc:0.85715\tvalidation_1-auc:0.84794\n",
      "[484]\tvalidation_0-auc:0.85715\tvalidation_1-auc:0.84793\n",
      "[485]\tvalidation_0-auc:0.85717\tvalidation_1-auc:0.84801\n",
      "[486]\tvalidation_0-auc:0.85717\tvalidation_1-auc:0.84797\n",
      "[487]\tvalidation_0-auc:0.85718\tvalidation_1-auc:0.84803\n",
      "[488]\tvalidation_0-auc:0.85718\tvalidation_1-auc:0.84798\n",
      "[489]\tvalidation_0-auc:0.85721\tvalidation_1-auc:0.84799\n",
      "[490]\tvalidation_0-auc:0.85722\tvalidation_1-auc:0.84795\n",
      "[491]\tvalidation_0-auc:0.85726\tvalidation_1-auc:0.84793\n",
      "[492]\tvalidation_0-auc:0.85724\tvalidation_1-auc:0.84794\n",
      "[493]\tvalidation_0-auc:0.85723\tvalidation_1-auc:0.84798\n",
      "[494]\tvalidation_0-auc:0.85725\tvalidation_1-auc:0.84793\n",
      "[495]\tvalidation_0-auc:0.85726\tvalidation_1-auc:0.84794\n",
      "[496]\tvalidation_0-auc:0.85725\tvalidation_1-auc:0.84791\n",
      "[497]\tvalidation_0-auc:0.85727\tvalidation_1-auc:0.84793\n",
      "[498]\tvalidation_0-auc:0.85727\tvalidation_1-auc:0.84793\n",
      "[499]\tvalidation_0-auc:0.85730\tvalidation_1-auc:0.84794\n",
      "[500]\tvalidation_0-auc:0.85732\tvalidation_1-auc:0.84794\n",
      "[501]\tvalidation_0-auc:0.85733\tvalidation_1-auc:0.84790\n",
      "[502]\tvalidation_0-auc:0.85735\tvalidation_1-auc:0.84790\n",
      "[503]\tvalidation_0-auc:0.85734\tvalidation_1-auc:0.84790\n",
      "[504]\tvalidation_0-auc:0.85734\tvalidation_1-auc:0.84787\n",
      "[505]\tvalidation_0-auc:0.85735\tvalidation_1-auc:0.84789\n",
      "[506]\tvalidation_0-auc:0.85735\tvalidation_1-auc:0.84784\n",
      "[507]\tvalidation_0-auc:0.85736\tvalidation_1-auc:0.84783\n",
      "[508]\tvalidation_0-auc:0.85736\tvalidation_1-auc:0.84790\n",
      "[509]\tvalidation_0-auc:0.85740\tvalidation_1-auc:0.84792\n",
      "[510]\tvalidation_0-auc:0.85741\tvalidation_1-auc:0.84789\n",
      "[511]\tvalidation_0-auc:0.85742\tvalidation_1-auc:0.84783\n",
      "[512]\tvalidation_0-auc:0.85743\tvalidation_1-auc:0.84785\n",
      "[513]\tvalidation_0-auc:0.85745\tvalidation_1-auc:0.84785\n",
      "[514]\tvalidation_0-auc:0.85744\tvalidation_1-auc:0.84783\n",
      "[515]\tvalidation_0-auc:0.85744\tvalidation_1-auc:0.84784\n",
      "[516]\tvalidation_0-auc:0.85747\tvalidation_1-auc:0.84784\n",
      "[517]\tvalidation_0-auc:0.85746\tvalidation_1-auc:0.84782\n",
      "[518]\tvalidation_0-auc:0.85748\tvalidation_1-auc:0.84782\n",
      "[519]\tvalidation_0-auc:0.85750\tvalidation_1-auc:0.84781\n",
      "[520]\tvalidation_0-auc:0.85751\tvalidation_1-auc:0.84781\n",
      "[521]\tvalidation_0-auc:0.85752\tvalidation_1-auc:0.84781\n",
      "[522]\tvalidation_0-auc:0.85753\tvalidation_1-auc:0.84781\n",
      "[523]\tvalidation_0-auc:0.85755\tvalidation_1-auc:0.84780\n",
      "[524]\tvalidation_0-auc:0.85755\tvalidation_1-auc:0.84775\n",
      "[525]\tvalidation_0-auc:0.85757\tvalidation_1-auc:0.84775\n",
      "[526]\tvalidation_0-auc:0.85758\tvalidation_1-auc:0.84774\n",
      "[527]\tvalidation_0-auc:0.85759\tvalidation_1-auc:0.84767\n",
      "[528]\tvalidation_0-auc:0.85760\tvalidation_1-auc:0.84767\n",
      "[529]\tvalidation_0-auc:0.85761\tvalidation_1-auc:0.84766\n",
      "[530]\tvalidation_0-auc:0.85762\tvalidation_1-auc:0.84766\n",
      "[531]\tvalidation_0-auc:0.85762\tvalidation_1-auc:0.84770\n",
      "[532]\tvalidation_0-auc:0.85765\tvalidation_1-auc:0.84775\n",
      "[533]\tvalidation_0-auc:0.85766\tvalidation_1-auc:0.84775\n",
      "[534]\tvalidation_0-auc:0.85767\tvalidation_1-auc:0.84771\n",
      "[535]\tvalidation_0-auc:0.85766\tvalidation_1-auc:0.84770\n",
      "[536]\tvalidation_0-auc:0.85767\tvalidation_1-auc:0.84767\n",
      "[537]\tvalidation_0-auc:0.85768\tvalidation_1-auc:0.84764\n",
      "[538]\tvalidation_0-auc:0.85766\tvalidation_1-auc:0.84771\n",
      "[539]\tvalidation_0-auc:0.85770\tvalidation_1-auc:0.84771\n",
      "[540]\tvalidation_0-auc:0.85770\tvalidation_1-auc:0.84768\n",
      "[541]\tvalidation_0-auc:0.85772\tvalidation_1-auc:0.84772\n",
      "[542]\tvalidation_0-auc:0.85772\tvalidation_1-auc:0.84776\n",
      "[543]\tvalidation_0-auc:0.85772\tvalidation_1-auc:0.84771\n",
      "[544]\tvalidation_0-auc:0.85774\tvalidation_1-auc:0.84773\n",
      "[545]\tvalidation_0-auc:0.85775\tvalidation_1-auc:0.84776\n",
      "[546]\tvalidation_0-auc:0.85776\tvalidation_1-auc:0.84776\n",
      "[547]\tvalidation_0-auc:0.85777\tvalidation_1-auc:0.84769\n",
      "[548]\tvalidation_0-auc:0.85777\tvalidation_1-auc:0.84767\n",
      "[549]\tvalidation_0-auc:0.85779\tvalidation_1-auc:0.84767\n",
      "[550]\tvalidation_0-auc:0.85778\tvalidation_1-auc:0.84768\n",
      "[551]\tvalidation_0-auc:0.85779\tvalidation_1-auc:0.84768\n",
      "[552]\tvalidation_0-auc:0.85779\tvalidation_1-auc:0.84765\n",
      "[553]\tvalidation_0-auc:0.85780\tvalidation_1-auc:0.84765\n",
      "[554]\tvalidation_0-auc:0.85780\tvalidation_1-auc:0.84765\n",
      "[555]\tvalidation_0-auc:0.85780\tvalidation_1-auc:0.84768\n",
      "[556]\tvalidation_0-auc:0.85781\tvalidation_1-auc:0.84770\n",
      "[557]\tvalidation_0-auc:0.85781\tvalidation_1-auc:0.84771\n",
      "[558]\tvalidation_0-auc:0.85783\tvalidation_1-auc:0.84770\n",
      "[559]\tvalidation_0-auc:0.85783\tvalidation_1-auc:0.84770\n",
      "[560]\tvalidation_0-auc:0.85783\tvalidation_1-auc:0.84770\n",
      "[561]\tvalidation_0-auc:0.85784\tvalidation_1-auc:0.84770\n",
      "[562]\tvalidation_0-auc:0.85785\tvalidation_1-auc:0.84771\n",
      "[563]\tvalidation_0-auc:0.85786\tvalidation_1-auc:0.84770\n",
      "[564]\tvalidation_0-auc:0.85787\tvalidation_1-auc:0.84773\n",
      "[565]\tvalidation_0-auc:0.85787\tvalidation_1-auc:0.84771\n",
      "[566]\tvalidation_0-auc:0.85788\tvalidation_1-auc:0.84769\n",
      "[567]\tvalidation_0-auc:0.85789\tvalidation_1-auc:0.84766\n",
      "[568]\tvalidation_0-auc:0.85791\tvalidation_1-auc:0.84765\n",
      "[569]\tvalidation_0-auc:0.85791\tvalidation_1-auc:0.84760\n",
      "[570]\tvalidation_0-auc:0.85790\tvalidation_1-auc:0.84767\n",
      "[571]\tvalidation_0-auc:0.85792\tvalidation_1-auc:0.84764\n",
      "[572]\tvalidation_0-auc:0.85793\tvalidation_1-auc:0.84767\n",
      "[573]\tvalidation_0-auc:0.85793\tvalidation_1-auc:0.84765\n",
      "[574]\tvalidation_0-auc:0.85795\tvalidation_1-auc:0.84765\n",
      "[575]\tvalidation_0-auc:0.85796\tvalidation_1-auc:0.84764\n",
      "[576]\tvalidation_0-auc:0.85798\tvalidation_1-auc:0.84765\n",
      "[577]\tvalidation_0-auc:0.85798\tvalidation_1-auc:0.84765\n",
      "[578]\tvalidation_0-auc:0.85800\tvalidation_1-auc:0.84766\n",
      "[579]\tvalidation_0-auc:0.85800\tvalidation_1-auc:0.84766\n",
      "[580]\tvalidation_0-auc:0.85802\tvalidation_1-auc:0.84762\n",
      "[581]\tvalidation_0-auc:0.85803\tvalidation_1-auc:0.84766\n",
      "[582]\tvalidation_0-auc:0.85803\tvalidation_1-auc:0.84764\n",
      "[583]\tvalidation_0-auc:0.85806\tvalidation_1-auc:0.84765\n",
      "[584]\tvalidation_0-auc:0.85806\tvalidation_1-auc:0.84766\n",
      "[585]\tvalidation_0-auc:0.85807\tvalidation_1-auc:0.84761\n",
      "[586]\tvalidation_0-auc:0.85807\tvalidation_1-auc:0.84764\n",
      "[587]\tvalidation_0-auc:0.85808\tvalidation_1-auc:0.84758\n",
      "[588]\tvalidation_0-auc:0.85809\tvalidation_1-auc:0.84758\n",
      "[589]\tvalidation_0-auc:0.85808\tvalidation_1-auc:0.84758\n",
      "[590]\tvalidation_0-auc:0.85808\tvalidation_1-auc:0.84761\n",
      "[591]\tvalidation_0-auc:0.85809\tvalidation_1-auc:0.84758\n",
      "[592]\tvalidation_0-auc:0.85811\tvalidation_1-auc:0.84756\n",
      "[593]\tvalidation_0-auc:0.85812\tvalidation_1-auc:0.84758\n",
      "[594]\tvalidation_0-auc:0.85812\tvalidation_1-auc:0.84755\n",
      "[595]\tvalidation_0-auc:0.85813\tvalidation_1-auc:0.84753\n",
      "[596]\tvalidation_0-auc:0.85814\tvalidation_1-auc:0.84754\n",
      "[597]\tvalidation_0-auc:0.85814\tvalidation_1-auc:0.84753\n",
      "[598]\tvalidation_0-auc:0.85816\tvalidation_1-auc:0.84756\n",
      "[599]\tvalidation_0-auc:0.85816\tvalidation_1-auc:0.84752\n"
     ]
    },
    {
     "data": {
      "text/plain": [
       "XGBClassifier(base_score=0.5, booster='gbtree', colsample_bylevel=1,\n",
       "              colsample_bynode=1, colsample_bytree=1, gamma=0, gpu_id=-1,\n",
       "              importance_type='gain', interaction_constraints='',\n",
       "              learning_rate=0.05, max_delta_step=0, max_depth=1,\n",
       "              min_child_weight=1, missing=nan, monotone_constraints='()',\n",
       "              n_estimators=600, n_jobs=0, num_parallel_tree=1, random_state=0,\n",
       "              reg_alpha=0, reg_lambda=1, scale_pos_weight=1, subsample=1,\n",
       "              tree_method='exact', validate_parameters=1, verbosity=None)"
      ]
     },
     "execution_count": 53,
     "metadata": {},
     "output_type": "execute_result"
    }
   ],
   "source": [
    "best_xgb = XGBClassifier(learning_rate = .05, max_depth = 1, n_estimators = 600)\n",
    "\n",
    "best_xgb.fit(X_train, y_train, eval_metric = [\"auc\"], eval_set = [(X_train, y_train), (X_test, y_test)]) \n",
    "             #early_stopping_rounds = 20)"
   ]
  },
  {
   "cell_type": "code",
   "execution_count": 54,
   "metadata": {
    "execution": {
     "iopub.execute_input": "2021-01-27T16:55:42.663073Z",
     "iopub.status.busy": "2021-01-27T16:55:42.661187Z",
     "iopub.status.idle": "2021-01-27T16:55:42.680345Z",
     "shell.execute_reply": "2021-01-27T16:55:42.679449Z"
    },
    "papermill": {
     "duration": 0.574525,
     "end_time": "2021-01-27T16:55:42.680537",
     "exception": false,
     "start_time": "2021-01-27T16:55:42.106012",
     "status": "completed"
    },
    "tags": []
   },
   "outputs": [
    {
     "data": {
      "text/plain": [
       "0.8041163946061036"
      ]
     },
     "execution_count": 54,
     "metadata": {},
     "output_type": "execute_result"
    }
   ],
   "source": [
    "xgbestpred = best_xgb.predict(X_test)\n",
    "metrics.accuracy_score(y_test, xgbestpred)"
   ]
  },
  {
   "cell_type": "code",
   "execution_count": 55,
   "metadata": {
    "execution": {
     "iopub.execute_input": "2021-01-27T16:55:43.768198Z",
     "iopub.status.busy": "2021-01-27T16:55:43.767488Z",
     "iopub.status.idle": "2021-01-27T16:55:44.483335Z",
     "shell.execute_reply": "2021-01-27T16:55:44.482615Z"
    },
    "papermill": {
     "duration": 1.246871,
     "end_time": "2021-01-27T16:55:44.483453",
     "exception": false,
     "start_time": "2021-01-27T16:55:43.236582",
     "status": "completed"
    },
    "tags": []
   },
   "outputs": [],
   "source": [
    "from hyperopt import STATUS_OK, Trials, fmin, hp, tpe"
   ]
  },
  {
   "cell_type": "code",
   "execution_count": 56,
   "metadata": {
    "execution": {
     "iopub.execute_input": "2021-01-27T16:55:45.530820Z",
     "iopub.status.busy": "2021-01-27T16:55:45.530083Z",
     "iopub.status.idle": "2021-01-27T16:55:45.533806Z",
     "shell.execute_reply": "2021-01-27T16:55:45.533185Z"
    },
    "papermill": {
     "duration": 0.528265,
     "end_time": "2021-01-27T16:55:45.533919",
     "exception": false,
     "start_time": "2021-01-27T16:55:45.005654",
     "status": "completed"
    },
    "tags": []
   },
   "outputs": [],
   "source": [
    "space={'max_depth': hp.quniform(\"max_depth\", 3, 18, 1),\n",
    "        'gamma': hp.uniform ('gamma', 1,9),\n",
    "        'reg_alpha' : hp.quniform('reg_alpha', 40,180,1),\n",
    "        'reg_lambda' : hp.uniform('reg_lambda', 0,1),\n",
    "        'colsample_bytree' : hp.uniform('colsample_bytree', 0.5,1),\n",
    "        'min_child_weight' : hp.quniform('min_child_weight', 0, 10, 1),\n",
    "        'n_estimators': 180,\n",
    "        'seed': 0\n",
    "    }"
   ]
  },
  {
   "cell_type": "code",
   "execution_count": 57,
   "metadata": {
    "execution": {
     "iopub.execute_input": "2021-01-27T16:55:46.582494Z",
     "iopub.status.busy": "2021-01-27T16:55:46.581834Z",
     "iopub.status.idle": "2021-01-27T16:55:46.585086Z",
     "shell.execute_reply": "2021-01-27T16:55:46.585656Z"
    },
    "papermill": {
     "duration": 0.529423,
     "end_time": "2021-01-27T16:55:46.585805",
     "exception": false,
     "start_time": "2021-01-27T16:55:46.056382",
     "status": "completed"
    },
    "tags": []
   },
   "outputs": [],
   "source": [
    "import xgboost as xgb"
   ]
  },
  {
   "cell_type": "code",
   "execution_count": 58,
   "metadata": {
    "execution": {
     "iopub.execute_input": "2021-01-27T16:55:47.638873Z",
     "iopub.status.busy": "2021-01-27T16:55:47.637752Z",
     "iopub.status.idle": "2021-01-27T16:55:47.641927Z",
     "shell.execute_reply": "2021-01-27T16:55:47.641207Z"
    },
    "papermill": {
     "duration": 0.534988,
     "end_time": "2021-01-27T16:55:47.642041",
     "exception": false,
     "start_time": "2021-01-27T16:55:47.107053",
     "status": "completed"
    },
    "tags": []
   },
   "outputs": [],
   "source": [
    "def objective(space):\n",
    "    clf=xgb.XGBClassifier(\n",
    "                    n_estimators =space['n_estimators'], max_depth = int(space['max_depth']), gamma = space['gamma'],\n",
    "                    reg_alpha = int(space['reg_alpha']),min_child_weight=int(space['min_child_weight']),\n",
    "                    colsample_bytree=int(space['colsample_bytree']))\n",
    "    \n",
    "    evaluation = [( X_train, y_train), ( X_test, y_test)]\n",
    "    \n",
    "    clf.fit(X_train, y_train,\n",
    "            eval_set=evaluation, eval_metric=\"auc\",\n",
    "            early_stopping_rounds=10,verbose=False)\n",
    "    \n",
    "\n",
    "    pred = clf.predict(X_test)\n",
    "    accuracy = accuracy_score(y_test, pred>0.5)\n",
    "    print (\"SCORE:\", accuracy)\n",
    "    return {'loss': -accuracy, 'status': STATUS_OK }\n"
   ]
  },
  {
   "cell_type": "code",
   "execution_count": 59,
   "metadata": {
    "execution": {
     "iopub.execute_input": "2021-01-27T16:55:48.742365Z",
     "iopub.status.busy": "2021-01-27T16:55:48.741207Z",
     "iopub.status.idle": "2021-01-27T16:56:13.114604Z",
     "shell.execute_reply": "2021-01-27T16:56:13.115209Z"
    },
    "papermill": {
     "duration": 24.908026,
     "end_time": "2021-01-27T16:56:13.115362",
     "exception": false,
     "start_time": "2021-01-27T16:55:48.207336",
     "status": "completed"
    },
    "tags": []
   },
   "outputs": [
    {
     "name": "stdout",
     "output_type": "stream",
     "text": [
      "SCORE:\n",
      "0.7693399574166075\n",
      "SCORE:\n",
      "0.7856635911994322\n",
      "SCORE:\n",
      "0.7295954577714692\n",
      "SCORE:\n",
      "0.7920511000709723\n",
      "SCORE:\n",
      "0.7934705464868701\n",
      "SCORE:\n",
      "0.7849538679914834\n",
      "SCORE:\n",
      "0.7856635911994322\n",
      "SCORE:\n",
      "0.7295954577714692\n",
      "SCORE:\n",
      "0.7927608232789212\n",
      "SCORE:\n",
      "0.7828246983676366\n",
      "SCORE:\n",
      "0.7849538679914834\n",
      "SCORE:\n",
      "0.7295954577714692\n",
      "SCORE:\n",
      "0.7295954577714692\n",
      "SCORE:\n",
      "0.7899219304471257\n",
      "SCORE:\n",
      "0.7551454932576295\n",
      "SCORE:\n",
      "0.7835344215755855\n",
      "SCORE:\n",
      "0.7295954577714692\n",
      "SCORE:\n",
      "0.7863733144073811\n",
      "SCORE:\n",
      "0.7856635911994322\n",
      "SCORE:\n",
      "0.7828246983676366\n",
      "SCORE:\n",
      "0.794889992902768\n",
      "SCORE:\n",
      "0.794889992902768\n",
      "SCORE:\n",
      "0.794180269694819\n",
      "SCORE:\n",
      "0.794180269694819\n",
      "SCORE:\n",
      "0.7913413768630234\n",
      "SCORE:\n",
      "0.7295954577714692\n",
      "SCORE:\n",
      "0.794889992902768\n",
      "SCORE:\n",
      "0.7927608232789212\n",
      "SCORE:\n",
      "0.794889992902768\n",
      "SCORE:\n",
      "0.7963094393186657\n",
      "SCORE:\n",
      "0.7700496806245565\n",
      "SCORE:\n",
      "0.7877927608232789\n",
      "SCORE:\n",
      "0.7934705464868701\n",
      "SCORE:\n",
      "0.7934705464868701\n",
      "SCORE:\n",
      "0.7295954577714692\n",
      "SCORE:\n",
      "0.7934705464868701\n",
      "SCORE:\n",
      "0.7934705464868701\n",
      "SCORE:\n",
      "0.7934705464868701\n",
      "SCORE:\n",
      "0.7920511000709723\n",
      "SCORE:\n",
      "0.7934705464868701\n",
      "SCORE:\n",
      "0.7856635911994322\n",
      "SCORE:\n",
      "0.7835344215755855\n",
      "SCORE:\n",
      "0.7679205110007097\n",
      "SCORE:\n",
      "0.7970191625266146\n",
      "SCORE:\n",
      "0.7295954577714692\n",
      "SCORE:\n",
      "0.7856635911994322\n",
      "SCORE:\n",
      "0.794889992902768\n",
      "SCORE:\n",
      "0.7856635911994322\n",
      "SCORE:\n",
      "0.7920511000709723\n",
      "SCORE:\n",
      "0.7934705464868701\n",
      "SCORE:\n",
      "0.7295954577714692\n",
      "SCORE:\n",
      "0.7934705464868701\n",
      "SCORE:\n",
      "0.7970191625266146\n",
      "SCORE:\n",
      "0.7842441447835344\n",
      "SCORE:\n",
      "0.7856635911994322\n",
      "SCORE:\n",
      "0.794180269694819\n",
      "SCORE:\n",
      "0.765791341376863\n",
      "SCORE:\n",
      "0.7934705464868701\n",
      "SCORE:\n",
      "0.7835344215755855\n",
      "SCORE:\n",
      "0.7842441447835344\n",
      "SCORE:\n",
      "0.794180269694819\n",
      "SCORE:\n",
      "0.7927608232789212\n",
      "SCORE:\n",
      "0.7920511000709723\n",
      "SCORE:\n",
      "0.7927608232789212\n",
      "SCORE:\n",
      "0.7842441447835344\n",
      "SCORE:\n",
      "0.7899219304471257\n",
      "SCORE:\n",
      "0.7955997161107168\n",
      "SCORE:\n",
      "0.7970191625266146\n",
      "SCORE:\n",
      "0.7934705464868701\n",
      "SCORE:\n",
      "0.7927608232789212\n",
      "SCORE:\n",
      "0.7970191625266146\n",
      "SCORE:\n",
      "0.7920511000709723\n",
      "SCORE:\n",
      "0.7934705464868701\n",
      "SCORE:\n",
      "0.794180269694819\n",
      "SCORE:\n",
      "0.7920511000709723\n",
      "SCORE:\n",
      "0.7934705464868701\n",
      "SCORE:\n",
      "0.7920511000709723\n",
      "SCORE:\n",
      "0.7849538679914834\n",
      "SCORE:\n",
      "0.7920511000709723\n",
      "SCORE:\n",
      "0.7295954577714692\n",
      "SCORE:\n",
      "0.7913413768630234\n",
      "SCORE:\n",
      "0.7295954577714692\n",
      "SCORE:\n",
      "0.7934705464868701\n",
      "SCORE:\n",
      "0.7934705464868701\n",
      "SCORE:\n",
      "0.7963094393186657\n",
      "SCORE:\n",
      "0.7835344215755855\n",
      "SCORE:\n",
      "0.7934705464868701\n",
      "SCORE:\n",
      "0.7551454932576295\n",
      "SCORE:\n",
      "0.7970191625266146\n",
      "SCORE:\n",
      "0.7920511000709723\n",
      "SCORE:\n",
      "0.7856635911994322\n",
      "SCORE:\n",
      "0.7295954577714692\n",
      "SCORE:\n",
      "0.794180269694819\n",
      "SCORE:\n",
      "0.7970191625266146\n",
      "SCORE:\n",
      "0.7934705464868701\n",
      "SCORE:\n",
      "0.7927608232789212\n",
      "SCORE:\n",
      "0.7934705464868701\n",
      "SCORE:\n",
      "0.7295954577714692\n",
      "SCORE:\n",
      "0.7849538679914834\n",
      "SCORE:\n",
      "0.7927608232789212\n",
      "100%|██████████| 100/100 [00:24<00:00,  4.10trial/s, best loss: -0.7970191625266146]\n"
     ]
    }
   ],
   "source": [
    "trials = Trials()\n",
    "\n",
    "best_hyperparams = fmin(fn = objective,\n",
    "                        space = space,\n",
    "                        algo = tpe.suggest,\n",
    "                        max_evals = 100,\n",
    "                        trials = trials)"
   ]
  },
  {
   "cell_type": "code",
   "execution_count": 60,
   "metadata": {
    "execution": {
     "iopub.execute_input": "2021-01-27T16:56:14.701841Z",
     "iopub.status.busy": "2021-01-27T16:56:14.700907Z",
     "iopub.status.idle": "2021-01-27T16:56:14.705149Z",
     "shell.execute_reply": "2021-01-27T16:56:14.705861Z"
    },
    "papermill": {
     "duration": 0.808123,
     "end_time": "2021-01-27T16:56:14.706063",
     "exception": false,
     "start_time": "2021-01-27T16:56:13.897940",
     "status": "completed"
    },
    "tags": []
   },
   "outputs": [
    {
     "name": "stdout",
     "output_type": "stream",
     "text": [
      "The best hyperparameters are :  \n",
      "\n",
      "{'colsample_bytree': 0.9355095963014142, 'gamma': 4.8960610141332355, 'max_depth': 12.0, 'min_child_weight': 3.0, 'reg_alpha': 46.0, 'reg_lambda': 0.7530989169700482}\n"
     ]
    }
   ],
   "source": [
    "print(\"The best hyperparameters are : \",\"\\n\")\n",
    "print(best_hyperparams)"
   ]
  }
 ],
 "metadata": {
  "kernelspec": {
   "display_name": "Python 3",
   "language": "python",
   "name": "python3"
  },
  "language_info": {
   "codemirror_mode": {
    "name": "ipython",
    "version": 3
   },
   "file_extension": ".py",
   "mimetype": "text/x-python",
   "name": "python",
   "nbconvert_exporter": "python",
   "pygments_lexer": "ipython3",
   "version": "3.7.6"
  },
  "papermill": {
   "duration": 2971.184168,
   "end_time": "2021-01-27T16:56:15.589330",
   "environment_variables": {},
   "exception": null,
   "input_path": "__notebook__.ipynb",
   "output_path": "__notebook__.ipynb",
   "parameters": {},
   "start_time": "2021-01-27T16:06:44.405162",
   "version": "2.1.0"
  },
  "widgets": {
   "application/vnd.jupyter.widget-state+json": {
    "state": {
     "1223d7f097f7485e830dd42f6d61de6e": {
      "model_module": "@jupyter-widgets/controls",
      "model_module_version": "1.5.0",
      "model_name": "DescriptionStyleModel",
      "state": {
       "_model_module": "@jupyter-widgets/controls",
       "_model_module_version": "1.5.0",
       "_model_name": "DescriptionStyleModel",
       "_view_count": null,
       "_view_module": "@jupyter-widgets/base",
       "_view_module_version": "1.2.0",
       "_view_name": "StyleView",
       "description_width": ""
      }
     },
     "3650e7ee6d2048469f41a047ce6bb795": {
      "model_module": "@jupyter-widgets/base",
      "model_module_version": "1.2.0",
      "model_name": "LayoutModel",
      "state": {
       "_model_module": "@jupyter-widgets/base",
       "_model_module_version": "1.2.0",
       "_model_name": "LayoutModel",
       "_view_count": null,
       "_view_module": "@jupyter-widgets/base",
       "_view_module_version": "1.2.0",
       "_view_name": "LayoutView",
       "align_content": null,
       "align_items": null,
       "align_self": null,
       "border": null,
       "bottom": null,
       "display": null,
       "flex": null,
       "flex_flow": null,
       "grid_area": null,
       "grid_auto_columns": null,
       "grid_auto_flow": null,
       "grid_auto_rows": null,
       "grid_column": null,
       "grid_gap": null,
       "grid_row": null,
       "grid_template_areas": null,
       "grid_template_columns": null,
       "grid_template_rows": null,
       "height": null,
       "justify_content": null,
       "justify_items": null,
       "left": null,
       "margin": null,
       "max_height": null,
       "max_width": null,
       "min_height": null,
       "min_width": null,
       "object_fit": null,
       "object_position": null,
       "order": null,
       "overflow": null,
       "overflow_x": null,
       "overflow_y": null,
       "padding": null,
       "right": null,
       "top": null,
       "visibility": null,
       "width": null
      }
     },
     "38ac3ce379f64731aeecb07eee171742": {
      "model_module": "@jupyter-widgets/controls",
      "model_module_version": "1.5.0",
      "model_name": "HBoxModel",
      "state": {
       "_dom_classes": [],
       "_model_module": "@jupyter-widgets/controls",
       "_model_module_version": "1.5.0",
       "_model_name": "HBoxModel",
       "_view_count": null,
       "_view_module": "@jupyter-widgets/controls",
       "_view_module_version": "1.5.0",
       "_view_name": "HBoxView",
       "box_style": "",
       "children": [
        "IPY_MODEL_f3ab04f3d331460f857660b222a3e766",
        "IPY_MODEL_c418470a27554559a8e57d0f33e34df4"
       ],
       "layout": "IPY_MODEL_3650e7ee6d2048469f41a047ce6bb795"
      }
     },
     "5d3b603d9b9b4db48c37f1935acb1155": {
      "model_module": "@jupyter-widgets/base",
      "model_module_version": "1.2.0",
      "model_name": "LayoutModel",
      "state": {
       "_model_module": "@jupyter-widgets/base",
       "_model_module_version": "1.2.0",
       "_model_name": "LayoutModel",
       "_view_count": null,
       "_view_module": "@jupyter-widgets/base",
       "_view_module_version": "1.2.0",
       "_view_name": "LayoutView",
       "align_content": null,
       "align_items": null,
       "align_self": null,
       "border": null,
       "bottom": null,
       "display": null,
       "flex": null,
       "flex_flow": null,
       "grid_area": null,
       "grid_auto_columns": null,
       "grid_auto_flow": null,
       "grid_auto_rows": null,
       "grid_column": null,
       "grid_gap": null,
       "grid_row": null,
       "grid_template_areas": null,
       "grid_template_columns": null,
       "grid_template_rows": null,
       "height": null,
       "justify_content": null,
       "justify_items": null,
       "left": null,
       "margin": null,
       "max_height": null,
       "max_width": null,
       "min_height": null,
       "min_width": null,
       "object_fit": null,
       "object_position": null,
       "order": null,
       "overflow": null,
       "overflow_x": null,
       "overflow_y": null,
       "padding": null,
       "right": null,
       "top": null,
       "visibility": null,
       "width": null
      }
     },
     "6829ef4243e24cfd8f4c95497a28dfbe": {
      "model_module": "@jupyter-widgets/base",
      "model_module_version": "1.2.0",
      "model_name": "LayoutModel",
      "state": {
       "_model_module": "@jupyter-widgets/base",
       "_model_module_version": "1.2.0",
       "_model_name": "LayoutModel",
       "_view_count": null,
       "_view_module": "@jupyter-widgets/base",
       "_view_module_version": "1.2.0",
       "_view_name": "LayoutView",
       "align_content": null,
       "align_items": null,
       "align_self": null,
       "border": null,
       "bottom": null,
       "display": null,
       "flex": null,
       "flex_flow": null,
       "grid_area": null,
       "grid_auto_columns": null,
       "grid_auto_flow": null,
       "grid_auto_rows": null,
       "grid_column": null,
       "grid_gap": null,
       "grid_row": null,
       "grid_template_areas": null,
       "grid_template_columns": null,
       "grid_template_rows": null,
       "height": null,
       "justify_content": null,
       "justify_items": null,
       "left": null,
       "margin": null,
       "max_height": null,
       "max_width": null,
       "min_height": null,
       "min_width": null,
       "object_fit": null,
       "object_position": null,
       "order": null,
       "overflow": null,
       "overflow_x": null,
       "overflow_y": null,
       "padding": null,
       "right": null,
       "top": null,
       "visibility": null,
       "width": null
      }
     },
     "c418470a27554559a8e57d0f33e34df4": {
      "model_module": "@jupyter-widgets/controls",
      "model_module_version": "1.5.0",
      "model_name": "HTMLModel",
      "state": {
       "_dom_classes": [],
       "_model_module": "@jupyter-widgets/controls",
       "_model_module_version": "1.5.0",
       "_model_name": "HTMLModel",
       "_view_count": null,
       "_view_module": "@jupyter-widgets/controls",
       "_view_module_version": "1.5.0",
       "_view_name": "HTMLView",
       "description": "",
       "description_tooltip": null,
       "layout": "IPY_MODEL_6829ef4243e24cfd8f4c95497a28dfbe",
       "placeholder": "​",
       "style": "IPY_MODEL_1223d7f097f7485e830dd42f6d61de6e",
       "value": " 84/84 [24:25&lt;00:00,  9.38s/pipeline]"
      }
     },
     "d2983d92e93d4726ac98c034b7edc969": {
      "model_module": "@jupyter-widgets/controls",
      "model_module_version": "1.5.0",
      "model_name": "ProgressStyleModel",
      "state": {
       "_model_module": "@jupyter-widgets/controls",
       "_model_module_version": "1.5.0",
       "_model_name": "ProgressStyleModel",
       "_view_count": null,
       "_view_module": "@jupyter-widgets/base",
       "_view_module_version": "1.2.0",
       "_view_name": "StyleView",
       "bar_color": null,
       "description_width": "initial"
      }
     },
     "f3ab04f3d331460f857660b222a3e766": {
      "model_module": "@jupyter-widgets/controls",
      "model_module_version": "1.5.0",
      "model_name": "FloatProgressModel",
      "state": {
       "_dom_classes": [],
       "_model_module": "@jupyter-widgets/controls",
       "_model_module_version": "1.5.0",
       "_model_name": "FloatProgressModel",
       "_view_count": null,
       "_view_module": "@jupyter-widgets/controls",
       "_view_module_version": "1.5.0",
       "_view_name": "ProgressView",
       "bar_style": "",
       "description": "Optimization Progress: 100%",
       "description_tooltip": null,
       "layout": "IPY_MODEL_5d3b603d9b9b4db48c37f1935acb1155",
       "max": 84.0,
       "min": 0.0,
       "orientation": "horizontal",
       "style": "IPY_MODEL_d2983d92e93d4726ac98c034b7edc969",
       "value": 84.0
      }
     }
    },
    "version_major": 2,
    "version_minor": 0
   }
  }
 },
 "nbformat": 4,
 "nbformat_minor": 4
}
